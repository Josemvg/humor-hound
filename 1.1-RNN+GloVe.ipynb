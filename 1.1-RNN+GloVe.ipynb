{
 "cells": [
  {
   "attachments": {},
   "cell_type": "markdown",
   "metadata": {},
   "source": [
    "# **1.1. - RNN (*Recurrent Neural Networks*) + GloVe (*Global Vectors for Word Representation*)**\n",
    "\n",
    "In this notebook, we will use the same RNN model as in the previous notebook (`1-RNN.ipynb`), but we will use a different word embedding technique. More specifically, instead of using our own word embedding, which is trained from scratch, we will use a pre-trained word embedding technique called GloVe (*Global Vectors for Word Representation*).\n",
    "\n",
    "<p align=\"left\">\n",
    "<img src=\"https://miro.medium.com/v2/resize:fit:1400/1*GJIk9Uv9-Tjwq8184slCHQ.png\"/>\n",
    "</p>\n",
    "\n",
    "*Figure 1: [Intuitive Guide to Understanding GloVe Embeddings](https://towardsdatascience.com/light-on-math-ml-intuitive-guide-to-understanding-glove-embeddings-b13b4f19c010), Thushan Ganegedara, Towards Data Science, 2019.*\n",
    "\n",
    "GloVe is a pre-trained word embedding model that maps words to high-dimensional vector representations. It is based on the distributional hypothesis, which states that words that appear in similar contexts tend to have similar meanings.\n",
    "\n",
    "The GloVe model uses a co-occurrence matrix to capture the statistical relationships between words. The matrix is constructed by counting the number of times each word appears in the same context as every other word in a large corpus of text. The rows and columns of the matrix correspond to the words in the vocabulary, and the entries in the matrix represent the co-occurrence counts.\n",
    "\n",
    "The GloVe model then factorizes the co-occurrence matrix to obtain a low-dimensional vector representation for each word that captures its semantic and syntactic properties. The resulting vectors can be used as inputs to a neural network for various natural language processing tasks, such as sentiment analysis, language translation, and named entity recognition.\n",
    "\n",
    "<p align=\"left\">\n",
    "<img src=\"https://i.stack.imgur.com/oJEie.png\"/>\n",
    "</p>\n",
    "\n",
    "*Figure 1: [Example of co-ocurrence matrix](https://blog.mlreview.com/understanding-lstm-and-its-diagrams-37e2f46f1714), 7 Hidden Layers*\n",
    "\n",
    "One advantage of using pre-trained word embeddings like GloVe is that they can save a significant amount of time and computational resources compared to training a custom word embedding from scratch. Training a custom word embedding requires a large amount of text data and a powerful computer, which is not feasible in all contexts. Additionally, pre-trained word embeddings like GloVe have been trained on large, diverse corpora of text, which may capture a wider range of language patterns than a smaller, domain-specific corpus.\n",
    "\n",
    "Another advantage of using pre-trained word embeddings like GloVe is that they can improve the performance of a model on downstream tasks. This is because the pre-trained embeddings already contain information about the relationships between words, which can help the model generalize to new data more effectively. In contrast, training a custom word embedding from scratch may require more data and tuning to achieve comparable performance.\n",
    "\n",
    "However, there are also some scenarios where it may be better to train a custom word embedding from scratch. For example, if the task requires specific domain knowledge or language patterns that are not captured by the pre-trained embeddings, training a custom embedding may be necessary. Additionally, if the pre-trained embeddings were trained on a corpus of text that is significantly different from the target domain, the performance of the model may suffer.\n",
    "\n",
    "Therefore, the decision to use GloVe or train a custom embedding should depend on the specific requirements of the task and the availability of resources.\n",
    "\n",
    "**Source**: [Intuitive Guide to Understanding GloVe Embeddings](https://towardsdatascience.com/light-on-math-ml-intuitive-guide-to-understanding-glove-embeddings-b13b4f19c010), Thushan Ganegedara, Towards Data Science, 2019."
   ]
  },
  {
   "attachments": {},
   "cell_type": "markdown",
   "metadata": {},
   "source": [
    "Let's load the required libraries in order to run the code:"
   ]
  },
  {
   "cell_type": "code",
   "execution_count": 1,
   "metadata": {},
   "outputs": [],
   "source": [
    "import os\n",
    "\n",
    "import pandas as pd\n",
    "import numpy as np\n",
    "\n",
    "from sklearn.metrics import confusion_matrix\n",
    "from tensorflow.keras.initializers import Constant\n",
    "from tensorflow.keras.layers import Embedding, SimpleRNN, Flatten, Dense, Dropout\n",
    "from tensorflow.keras.preprocessing.text import Tokenizer\n",
    "from tensorflow.keras.preprocessing.sequence import pad_sequences\n",
    "from tensorflow.keras.models import Sequential\n",
    "from tensorflow.keras.callbacks import EarlyStopping, ModelCheckpoint\n",
    "from tensorflow.keras.models import load_model\n",
    "\n",
    "from src.data_exploration.data_preprocessing import train_test_split, tokenization, load_glove_embeddings, create_embedding_matrix\n",
    "from src.utils.eval_utils import plot_metric_curves, plot_confusion_matrix"
   ]
  },
  {
   "attachments": {},
   "cell_type": "markdown",
   "metadata": {},
   "source": [
    "## Load dataset\n",
    "\n",
    "Now let's load the dataset generated in `0-EDA.ipynb`:"
   ]
  },
  {
   "cell_type": "code",
   "execution_count": 2,
   "metadata": {},
   "outputs": [
    {
     "data": {
      "text/html": [
       "<div>\n",
       "<style scoped>\n",
       "    .dataframe tbody tr th:only-of-type {\n",
       "        vertical-align: middle;\n",
       "    }\n",
       "\n",
       "    .dataframe tbody tr th {\n",
       "        vertical-align: top;\n",
       "    }\n",
       "\n",
       "    .dataframe thead th {\n",
       "        text-align: right;\n",
       "    }\n",
       "</style>\n",
       "<table border=\"1\" class=\"dataframe\">\n",
       "  <thead>\n",
       "    <tr style=\"text-align: right;\">\n",
       "      <th></th>\n",
       "      <th>headline</th>\n",
       "      <th>label</th>\n",
       "    </tr>\n",
       "  </thead>\n",
       "  <tbody>\n",
       "    <tr>\n",
       "      <th>0</th>\n",
       "      <td>scientist unveil doomsday clock hair loss</td>\n",
       "      <td>1</td>\n",
       "    </tr>\n",
       "    <tr>\n",
       "      <th>1</th>\n",
       "      <td>dem rep totally nail congress falling short ge...</td>\n",
       "      <td>0</td>\n",
       "    </tr>\n",
       "    <tr>\n",
       "      <th>2</th>\n",
       "      <td>eat different recipe</td>\n",
       "      <td>0</td>\n",
       "    </tr>\n",
       "    <tr>\n",
       "      <th>3</th>\n",
       "      <td>weather prevents liar getting work</td>\n",
       "      <td>1</td>\n",
       "    </tr>\n",
       "    <tr>\n",
       "      <th>4</th>\n",
       "      <td>mother come pretty close using word streaming ...</td>\n",
       "      <td>1</td>\n",
       "    </tr>\n",
       "  </tbody>\n",
       "</table>\n",
       "</div>"
      ],
      "text/plain": [
       "                                            headline  label\n",
       "0          scientist unveil doomsday clock hair loss      1\n",
       "1  dem rep totally nail congress falling short ge...      0\n",
       "2                               eat different recipe      0\n",
       "3                 weather prevents liar getting work      1\n",
       "4  mother come pretty close using word streaming ...      1"
      ]
     },
     "execution_count": 2,
     "metadata": {},
     "output_type": "execute_result"
    }
   ],
   "source": [
    "dataset = os.path.join(\"data\", \"Sarcasm_Headlines_Dataset_v2.csv\")\n",
    "\n",
    "df = pd.read_csv(dataset, sep=\";\")\n",
    "df.head()"
   ]
  },
  {
   "attachments": {},
   "cell_type": "markdown",
   "metadata": {},
   "source": [
    "## Split data into train and validation sets\n",
    "\n",
    "We need to generate both training and validation sets. We will use 80% of the data for training and the remaining 20% for validation. Moreover, in classification tasks it is important to maintain the same proportion of classes in both training and validation sets (otherwise, the model might be affected by it during the training process, and the validation metrics may also be distorted). `scikit-learn` offers the class `StratifiedShuffleSplit` for achieving this, which will be used. We have developed the `train_test_split` function, which is stored in `src/data_exploration/data_preprocessing.py`:"
   ]
  },
  {
   "cell_type": "code",
   "execution_count": 3,
   "metadata": {},
   "outputs": [],
   "source": [
    "X_train, y_train, X_val, y_val = train_test_split(df, \"label\")"
   ]
  },
  {
   "attachments": {},
   "cell_type": "markdown",
   "metadata": {},
   "source": [
    "Let's check that the training set contains 80% of data:"
   ]
  },
  {
   "cell_type": "code",
   "execution_count": 4,
   "metadata": {},
   "outputs": [
    {
     "data": {
      "text/plain": [
       "0.8"
      ]
     },
     "execution_count": 4,
     "metadata": {},
     "output_type": "execute_result"
    }
   ],
   "source": [
    "np.round(len(X_train) / len(df), 2)"
   ]
  },
  {
   "attachments": {},
   "cell_type": "markdown",
   "metadata": {},
   "source": [
    "Let's also check that the distribution of classes in both sets are almost the same:"
   ]
  },
  {
   "cell_type": "code",
   "execution_count": 5,
   "metadata": {},
   "outputs": [
    {
     "data": {
      "text/plain": [
       "0    0.518145\n",
       "1    0.481855\n",
       "Name: label, dtype: float64"
      ]
     },
     "execution_count": 5,
     "metadata": {},
     "output_type": "execute_result"
    }
   ],
   "source": [
    "y_train.value_counts(normalize=True)"
   ]
  },
  {
   "cell_type": "code",
   "execution_count": 6,
   "metadata": {},
   "outputs": [
    {
     "data": {
      "text/plain": [
       "0    0.518237\n",
       "1    0.481763\n",
       "Name: label, dtype: float64"
      ]
     },
     "execution_count": 6,
     "metadata": {},
     "output_type": "execute_result"
    }
   ],
   "source": [
    "y_val.value_counts(normalize=True)"
   ]
  },
  {
   "attachments": {},
   "cell_type": "markdown",
   "metadata": {},
   "source": [
    "# Tokenization, Padding and Sequencing"
   ]
  },
  {
   "cell_type": "code",
   "execution_count": 7,
   "metadata": {},
   "outputs": [],
   "source": [
    "# Define tokenizer\n",
    "tokenizer = Tokenizer(oov_token=\"<OOV>\")\n",
    "# Obtain padded train and test sequences, length of longest sequence and vocabulary size\n",
    "train_padded, val_padded, max_seq_len, vocab_size, tokenizer = tokenization(tokenizer, X_train, X_val, \"headline\") "
   ]
  },
  {
   "attachments": {},
   "cell_type": "markdown",
   "metadata": {},
   "source": [
    "## Build the model\n",
    "\n",
    "In order to use the pre-trained GloVe embeddings, we need to download it. For doing so, execute the following command in the terminal:\n",
    "\n",
    "```bash\n",
    "wget http://nlp.stanford.edu/data/glove.6B.zip\n",
    "```\n",
    "\n",
    "Then, unzip the file by using the command below:\n",
    "\n",
    "```bash\n",
    "unzip -q glove.6B.zip\n",
    "```\n",
    "\n",
    "The zip can also be downloaded from [here](https://nlp.stanford.edu/projects/glove/). We have already added the unzipped files to the `data` folder, and therefore it is time to load them.\n",
    "\n",
    "***Note***: *for all models we we will use the 100-dimensional version of the GloVe embeddings. We trained them with the 200 and 300-dimensional versions, but the results were not significantly better, so we decided to use the 100-dimensional version for the sake of simplicity.*"
   ]
  },
  {
   "cell_type": "code",
   "execution_count": 8,
   "metadata": {},
   "outputs": [],
   "source": [
    "num_tokens = vocab_size + 1\n",
    "# Define embedding dimension for GloVe (this is needed in order to load the corresponding embeddings)\n",
    "embedding_dim = 100\n",
    "\n",
    "path_to_glove_file = os.path.join(\"data\", f\"glove.6B.{embedding_dim}d.txt\")"
   ]
  },
  {
   "cell_type": "code",
   "execution_count": 9,
   "metadata": {},
   "outputs": [
    {
     "name": "stdout",
     "output_type": "stream",
     "text": [
      "Found 400000 word vectors.\n"
     ]
    }
   ],
   "source": [
    "embeddings_index = load_glove_embeddings(path_to_glove_file)\n",
    "print(f\"Found {len(embeddings_index)} word vectors.\")"
   ]
  },
  {
   "cell_type": "code",
   "execution_count": 10,
   "metadata": {},
   "outputs": [
    {
     "name": "stdout",
     "output_type": "stream",
     "text": [
      "Converted 7532 words (138 misses)\n"
     ]
    }
   ],
   "source": [
    "embedding_matrix, hits, misses = create_embedding_matrix(embeddings_index, tokenizer, num_tokens, embedding_dim)\n",
    "print(f\"Converted {hits} words ({misses} misses)\")"
   ]
  },
  {
   "cell_type": "code",
   "execution_count": 11,
   "metadata": {},
   "outputs": [],
   "source": [
    "model = Sequential()\n",
    "\n",
    "# Embedding layer\n",
    "embedding_layer = Embedding(\n",
    "    num_tokens,\n",
    "    embedding_dim,\n",
    "    embeddings_initializer=Constant(embedding_matrix),\n",
    "    # input_length=max_seq_len,\n",
    "    trainable=False,\n",
    ")\n",
    "\n",
    "model.add(embedding_layer)\n",
    "\n",
    "# Add SimpleRNN layer\n",
    "model.add(SimpleRNN(128, recurrent_dropout=0.5, dropout=0.5))\n",
    "\n",
    "# Flatten and Dense Layer\n",
    "model.add(Flatten())\n",
    "model.add(Dropout(0.2))\n",
    "model.add(Dense(64, activation=\"relu\"))\n",
    "\n",
    "# Output layer\n",
    "model.add(Dense(1, activation=\"sigmoid\"))"
   ]
  },
  {
   "cell_type": "code",
   "execution_count": 12,
   "metadata": {},
   "outputs": [],
   "source": [
    "model.compile(loss=\"binary_crossentropy\", optimizer=\"adam\", metrics=[\"acc\"])"
   ]
  },
  {
   "cell_type": "code",
   "execution_count": 13,
   "metadata": {},
   "outputs": [
    {
     "name": "stdout",
     "output_type": "stream",
     "text": [
      "Model: \"sequential\"\n",
      "_________________________________________________________________\n",
      " Layer (type)                Output Shape              Param #   \n",
      "=================================================================\n",
      " embedding (Embedding)       (None, None, 100)         767200    \n",
      "                                                                 \n",
      " simple_rnn (SimpleRNN)      (None, 128)               29312     \n",
      "                                                                 \n",
      " flatten (Flatten)           (None, 128)               0         \n",
      "                                                                 \n",
      " dropout (Dropout)           (None, 128)               0         \n",
      "                                                                 \n",
      " dense (Dense)               (None, 64)                8256      \n",
      "                                                                 \n",
      " dense_1 (Dense)             (None, 1)                 65        \n",
      "                                                                 \n",
      "=================================================================\n",
      "Total params: 804,833\n",
      "Trainable params: 37,633\n",
      "Non-trainable params: 767,200\n",
      "_________________________________________________________________\n"
     ]
    }
   ],
   "source": [
    "model.summary()"
   ]
  },
  {
   "attachments": {},
   "cell_type": "markdown",
   "metadata": {},
   "source": [
    "## Train the model"
   ]
  },
  {
   "attachments": {},
   "cell_type": "markdown",
   "metadata": {},
   "source": [
    "Let's first create a folder where to save our models."
   ]
  },
  {
   "cell_type": "code",
   "execution_count": 14,
   "metadata": {},
   "outputs": [],
   "source": [
    "# Create directory where to save the models created\n",
    "models_dir = \"./models\"\n",
    "os.makedirs(models_dir, exist_ok=True)"
   ]
  },
  {
   "cell_type": "code",
   "execution_count": 15,
   "metadata": {},
   "outputs": [],
   "source": [
    "# Model name and path\n",
    "model_path = os.path.join(\"models\", \"rnn_glove_model.h5\")"
   ]
  },
  {
   "attachments": {},
   "cell_type": "markdown",
   "metadata": {},
   "source": [
    "We use `EarlyStopping` to limit *overfitting*, as well `ModelCheckpoint` to save the best model obtained during training. We will using validation loss as metric function for early stopping, setting a patience of 5 (i.e., we will stop after there is no improvement in validation loss for 5 epochs of training). Since we are dealing with a relatively small dataset, we can set a high enough number of epochs, as we can be fairly sure that training will be stopped before reaching the limit."
   ]
  },
  {
   "cell_type": "code",
   "execution_count": 16,
   "metadata": {},
   "outputs": [],
   "source": [
    "es = EarlyStopping(monitor='val_loss', mode='min', verbose=1, patience=5)\n",
    "mc = ModelCheckpoint(model_path, monitor='val_loss', \n",
    "                     mode='min', verbose=1, save_best_only=True)"
   ]
  },
  {
   "cell_type": "code",
   "execution_count": 17,
   "metadata": {},
   "outputs": [
    {
     "name": "stdout",
     "output_type": "stream",
     "text": [
      "Epoch 1/30\n",
      "338/338 [==============================] - ETA: 0s - loss: 0.7085 - acc: 0.5106\n",
      "Epoch 1: val_loss improved from inf to 0.68968, saving model to models\\rnn_glove_model.h5\n",
      "338/338 [==============================] - 7s 17ms/step - loss: 0.7085 - acc: 0.5106 - val_loss: 0.6897 - val_acc: 0.5403\n",
      "Epoch 2/30\n",
      "336/338 [============================>.] - ETA: 0s - loss: 0.7019 - acc: 0.5079\n",
      "Epoch 2: val_loss improved from 0.68968 to 0.67402, saving model to models\\rnn_glove_model.h5\n",
      "338/338 [==============================] - 6s 18ms/step - loss: 0.7019 - acc: 0.5078 - val_loss: 0.6740 - val_acc: 0.5808\n",
      "Epoch 3/30\n",
      "336/338 [============================>.] - ETA: 0s - loss: 0.6969 - acc: 0.5233\n",
      "Epoch 3: val_loss improved from 0.67402 to 0.66639, saving model to models\\rnn_glove_model.h5\n",
      "338/338 [==============================] - 6s 17ms/step - loss: 0.6968 - acc: 0.5236 - val_loss: 0.6664 - val_acc: 0.6004\n",
      "Epoch 4/30\n",
      "338/338 [==============================] - ETA: 0s - loss: 0.6856 - acc: 0.5633\n",
      "Epoch 4: val_loss improved from 0.66639 to 0.66594, saving model to models\\rnn_glove_model.h5\n",
      "338/338 [==============================] - 6s 19ms/step - loss: 0.6856 - acc: 0.5633 - val_loss: 0.6659 - val_acc: 0.5984\n",
      "Epoch 5/30\n",
      "338/338 [==============================] - ETA: 0s - loss: 0.6716 - acc: 0.5976\n",
      "Epoch 5: val_loss improved from 0.66594 to 0.65878, saving model to models\\rnn_glove_model.h5\n",
      "338/338 [==============================] - 7s 21ms/step - loss: 0.6716 - acc: 0.5976 - val_loss: 0.6588 - val_acc: 0.6345\n",
      "Epoch 6/30\n",
      "335/338 [============================>.] - ETA: 0s - loss: 0.6641 - acc: 0.6143\n",
      "Epoch 6: val_loss improved from 0.65878 to 0.65105, saving model to models\\rnn_glove_model.h5\n",
      "338/338 [==============================] - 6s 19ms/step - loss: 0.6640 - acc: 0.6143 - val_loss: 0.6511 - val_acc: 0.6473\n",
      "Epoch 7/30\n",
      "337/338 [============================>.] - ETA: 0s - loss: 0.6614 - acc: 0.6182\n",
      "Epoch 7: val_loss improved from 0.65105 to 0.62753, saving model to models\\rnn_glove_model.h5\n",
      "338/338 [==============================] - 8s 24ms/step - loss: 0.6613 - acc: 0.6184 - val_loss: 0.6275 - val_acc: 0.6636\n",
      "Epoch 8/30\n",
      "337/338 [============================>.] - ETA: 0s - loss: 0.6554 - acc: 0.6219\n",
      "Epoch 8: val_loss improved from 0.62753 to 0.62064, saving model to models\\rnn_glove_model.h5\n",
      "338/338 [==============================] - 7s 20ms/step - loss: 0.6554 - acc: 0.6217 - val_loss: 0.6206 - val_acc: 0.6634\n",
      "Epoch 9/30\n",
      "338/338 [==============================] - ETA: 0s - loss: 0.6472 - acc: 0.6337\n",
      "Epoch 9: val_loss did not improve from 0.62064\n",
      "338/338 [==============================] - 6s 17ms/step - loss: 0.6472 - acc: 0.6337 - val_loss: 0.6309 - val_acc: 0.6567\n",
      "Epoch 10/30\n",
      "335/338 [============================>.] - ETA: 0s - loss: 0.6429 - acc: 0.6397\n",
      "Epoch 10: val_loss improved from 0.62064 to 0.61695, saving model to models\\rnn_glove_model.h5\n",
      "338/338 [==============================] - 6s 19ms/step - loss: 0.6433 - acc: 0.6391 - val_loss: 0.6169 - val_acc: 0.6808\n",
      "Epoch 11/30\n",
      "335/338 [============================>.] - ETA: 0s - loss: 0.6443 - acc: 0.6350\n",
      "Epoch 11: val_loss did not improve from 0.61695\n",
      "338/338 [==============================] - 6s 16ms/step - loss: 0.6439 - acc: 0.6354 - val_loss: 0.6262 - val_acc: 0.6708\n",
      "Epoch 12/30\n",
      "338/338 [==============================] - ETA: 0s - loss: 0.6394 - acc: 0.6382\n",
      "Epoch 12: val_loss improved from 0.61695 to 0.60582, saving model to models\\rnn_glove_model.h5\n",
      "338/338 [==============================] - 7s 20ms/step - loss: 0.6394 - acc: 0.6382 - val_loss: 0.6058 - val_acc: 0.6810\n",
      "Epoch 13/30\n",
      "337/338 [============================>.] - ETA: 0s - loss: 0.6379 - acc: 0.6412\n",
      "Epoch 13: val_loss improved from 0.60582 to 0.60436, saving model to models\\rnn_glove_model.h5\n",
      "338/338 [==============================] - 6s 19ms/step - loss: 0.6381 - acc: 0.6409 - val_loss: 0.6044 - val_acc: 0.6793\n",
      "Epoch 14/30\n",
      "337/338 [============================>.] - ETA: 0s - loss: 0.6400 - acc: 0.6408\n",
      "Epoch 14: val_loss did not improve from 0.60436\n",
      "338/338 [==============================] - 6s 18ms/step - loss: 0.6399 - acc: 0.6410 - val_loss: 0.6131 - val_acc: 0.6769\n",
      "Epoch 15/30\n",
      "335/338 [============================>.] - ETA: 0s - loss: 0.6382 - acc: 0.6468\n",
      "Epoch 15: val_loss improved from 0.60436 to 0.59120, saving model to models\\rnn_glove_model.h5\n",
      "338/338 [==============================] - 7s 19ms/step - loss: 0.6380 - acc: 0.6471 - val_loss: 0.5912 - val_acc: 0.6952\n",
      "Epoch 16/30\n",
      "338/338 [==============================] - ETA: 0s - loss: 0.6319 - acc: 0.6511\n",
      "Epoch 16: val_loss improved from 0.59120 to 0.58696, saving model to models\\rnn_glove_model.h5\n",
      "338/338 [==============================] - 6s 19ms/step - loss: 0.6319 - acc: 0.6511 - val_loss: 0.5870 - val_acc: 0.7095\n",
      "Epoch 17/30\n",
      "337/338 [============================>.] - ETA: 0s - loss: 0.6339 - acc: 0.6505\n",
      "Epoch 17: val_loss improved from 0.58696 to 0.58471, saving model to models\\rnn_glove_model.h5\n",
      "338/338 [==============================] - 7s 20ms/step - loss: 0.6339 - acc: 0.6504 - val_loss: 0.5847 - val_acc: 0.7069\n",
      "Epoch 18/30\n",
      "338/338 [==============================] - ETA: 0s - loss: 0.6343 - acc: 0.6509\n",
      "Epoch 18: val_loss did not improve from 0.58471\n",
      "338/338 [==============================] - 6s 17ms/step - loss: 0.6343 - acc: 0.6509 - val_loss: 0.5968 - val_acc: 0.6964\n",
      "Epoch 19/30\n",
      "338/338 [==============================] - ETA: 0s - loss: 0.6306 - acc: 0.6536\n",
      "Epoch 19: val_loss improved from 0.58471 to 0.58427, saving model to models\\rnn_glove_model.h5\n",
      "338/338 [==============================] - 7s 19ms/step - loss: 0.6306 - acc: 0.6536 - val_loss: 0.5843 - val_acc: 0.7075\n",
      "Epoch 20/30\n",
      "336/338 [============================>.] - ETA: 0s - loss: 0.6270 - acc: 0.6593\n",
      "Epoch 20: val_loss did not improve from 0.58427\n",
      "338/338 [==============================] - 6s 17ms/step - loss: 0.6269 - acc: 0.6595 - val_loss: 0.5980 - val_acc: 0.6960\n",
      "Epoch 21/30\n",
      "335/338 [============================>.] - ETA: 0s - loss: 0.6281 - acc: 0.6542\n",
      "Epoch 21: val_loss improved from 0.58427 to 0.58127, saving model to models\\rnn_glove_model.h5\n",
      "338/338 [==============================] - 6s 19ms/step - loss: 0.6282 - acc: 0.6542 - val_loss: 0.5813 - val_acc: 0.6975\n",
      "Epoch 22/30\n",
      "336/338 [============================>.] - ETA: 0s - loss: 0.6280 - acc: 0.6578\n",
      "Epoch 22: val_loss improved from 0.58127 to 0.57944, saving model to models\\rnn_glove_model.h5\n",
      "338/338 [==============================] - 6s 19ms/step - loss: 0.6283 - acc: 0.6576 - val_loss: 0.5794 - val_acc: 0.7136\n",
      "Epoch 23/30\n",
      "337/338 [============================>.] - ETA: 0s - loss: 0.6278 - acc: 0.6560\n",
      "Epoch 23: val_loss did not improve from 0.57944\n",
      "338/338 [==============================] - 6s 17ms/step - loss: 0.6279 - acc: 0.6562 - val_loss: 0.5805 - val_acc: 0.7117\n",
      "Epoch 24/30\n",
      "336/338 [============================>.] - ETA: 0s - loss: 0.6255 - acc: 0.6611\n",
      "Epoch 24: val_loss did not improve from 0.57944\n",
      "338/338 [==============================] - 6s 17ms/step - loss: 0.6255 - acc: 0.6613 - val_loss: 0.5841 - val_acc: 0.7026\n",
      "Epoch 25/30\n",
      "337/338 [============================>.] - ETA: 0s - loss: 0.6246 - acc: 0.6629\n",
      "Epoch 25: val_loss improved from 0.57944 to 0.57940, saving model to models\\rnn_glove_model.h5\n",
      "338/338 [==============================] - 6s 19ms/step - loss: 0.6247 - acc: 0.6629 - val_loss: 0.5794 - val_acc: 0.7112\n",
      "Epoch 26/30\n",
      "335/338 [============================>.] - ETA: 0s - loss: 0.6266 - acc: 0.6561\n",
      "Epoch 26: val_loss improved from 0.57940 to 0.57828, saving model to models\\rnn_glove_model.h5\n",
      "338/338 [==============================] - 7s 19ms/step - loss: 0.6268 - acc: 0.6560 - val_loss: 0.5783 - val_acc: 0.7106\n",
      "Epoch 27/30\n",
      "336/338 [============================>.] - ETA: 0s - loss: 0.6186 - acc: 0.6690\n",
      "Epoch 27: val_loss improved from 0.57828 to 0.57660, saving model to models\\rnn_glove_model.h5\n",
      "338/338 [==============================] - 6s 19ms/step - loss: 0.6186 - acc: 0.6690 - val_loss: 0.5766 - val_acc: 0.7117\n",
      "Epoch 28/30\n",
      "335/338 [============================>.] - ETA: 0s - loss: 0.6195 - acc: 0.6647\n",
      "Epoch 28: val_loss improved from 0.57660 to 0.57092, saving model to models\\rnn_glove_model.h5\n",
      "338/338 [==============================] - 6s 19ms/step - loss: 0.6198 - acc: 0.6640 - val_loss: 0.5709 - val_acc: 0.7132\n",
      "Epoch 29/30\n",
      "336/338 [============================>.] - ETA: 0s - loss: 0.6217 - acc: 0.6635\n",
      "Epoch 29: val_loss did not improve from 0.57092\n",
      "338/338 [==============================] - 6s 16ms/step - loss: 0.6219 - acc: 0.6635 - val_loss: 0.5830 - val_acc: 0.7091\n",
      "Epoch 30/30\n",
      "336/338 [============================>.] - ETA: 0s - loss: 0.6182 - acc: 0.6706\n",
      "Epoch 30: val_loss did not improve from 0.57092\n",
      "338/338 [==============================] - 6s 17ms/step - loss: 0.6181 - acc: 0.6707 - val_loss: 0.5899 - val_acc: 0.7032\n"
     ]
    }
   ],
   "source": [
    "history = model.fit(\n",
    "    train_padded, np.array(y_train),\n",
    "    epochs=30,\n",
    "    batch_size=64,\n",
    "    shuffle=True,\n",
    "    validation_data=(val_padded, np.array(y_val)),\n",
    "    callbacks = [es, mc]\n",
    ")"
   ]
  },
  {
   "attachments": {},
   "cell_type": "markdown",
   "metadata": {},
   "source": [
    "## Validation\n",
    "\n",
    "Let's plot how the loss and the accuracy from both training and validations sets have evolved during the training process. "
   ]
  },
  {
   "cell_type": "code",
   "execution_count": 18,
   "metadata": {},
   "outputs": [],
   "source": [
    "acc = history.history['acc']\n",
    "val_acc = history.history['val_acc']\n",
    "loss = history.history['loss']\n",
    "val_loss = history.history['val_loss']\n",
    "\n",
    "epochs = range(len(acc))"
   ]
  },
  {
   "cell_type": "code",
   "execution_count": 19,
   "metadata": {},
   "outputs": [
    {
     "data": {
      "image/svg+xml": "<?xml version=\"1.0\" encoding=\"utf-8\" standalone=\"no\"?>\n<!DOCTYPE svg PUBLIC \"-//W3C//DTD SVG 1.1//EN\"\n  \"http://www.w3.org/Graphics/SVG/1.1/DTD/svg11.dtd\">\n<svg xmlns:xlink=\"http://www.w3.org/1999/xlink\" width=\"891.32375pt\" height=\"512.098906pt\" viewBox=\"0 0 891.32375 512.098906\" xmlns=\"http://www.w3.org/2000/svg\" version=\"1.1\">\n <metadata>\n  <rdf:RDF xmlns:dc=\"http://purl.org/dc/elements/1.1/\" xmlns:cc=\"http://creativecommons.org/ns#\" xmlns:rdf=\"http://www.w3.org/1999/02/22-rdf-syntax-ns#\">\n   <cc:Work>\n    <dc:type rdf:resource=\"http://purl.org/dc/dcmitype/StillImage\"/>\n    <dc:date>2023-04-16T13:32:30.191578</dc:date>\n    <dc:format>image/svg+xml</dc:format>\n    <dc:creator>\n     <cc:Agent>\n      <dc:title>Matplotlib v3.6.3, https://matplotlib.org/</dc:title>\n     </cc:Agent>\n    </dc:creator>\n   </cc:Work>\n  </rdf:RDF>\n </metadata>\n <defs>\n  <style type=\"text/css\">*{stroke-linejoin: round; stroke-linecap: butt}</style>\n </defs>\n <g id=\"figure_1\">\n  <g id=\"patch_1\">\n   <path d=\"M 0 512.098906 \nL 891.32375 512.098906 \nL 891.32375 0 \nL 0 0 \nz\n\" style=\"fill: #ffffff\"/>\n  </g>\n  <g id=\"axes_1\">\n   <g id=\"patch_2\">\n    <path d=\"M 51.378906 471.035625 \nL 720.978906 471.035625 \nL 720.978906 27.515625 \nL 51.378906 27.515625 \nz\n\" style=\"fill: #ffffff\"/>\n   </g>\n   <g id=\"matplotlib.axis_1\">\n    <g id=\"xtick_1\">\n     <g id=\"line2d_1\">\n      <path d=\"M 51.378906 471.035625 \nL 51.378906 27.515625 \n\" clip-path=\"url(#p3426702089)\" style=\"fill: none; stroke: #cccccc; stroke-width: 0.8; stroke-linecap: round\"/>\n     </g>\n     <g id=\"text_1\">\n      <!-- 0 -->\n      <g style=\"fill: #262626\" transform=\"translate(48.598438 485.193437) scale(0.1 -0.1)\">\n       <defs>\n        <path id=\"ArialMT-30\" d=\"M 266 2259 \nQ 266 3072 433 3567 \nQ 600 4063 929 4331 \nQ 1259 4600 1759 4600 \nQ 2128 4600 2406 4451 \nQ 2684 4303 2865 4023 \nQ 3047 3744 3150 3342 \nQ 3253 2941 3253 2259 \nQ 3253 1453 3087 958 \nQ 2922 463 2592 192 \nQ 2263 -78 1759 -78 \nQ 1097 -78 719 397 \nQ 266 969 266 2259 \nz\nM 844 2259 \nQ 844 1131 1108 757 \nQ 1372 384 1759 384 \nQ 2147 384 2411 759 \nQ 2675 1134 2675 2259 \nQ 2675 3391 2411 3762 \nQ 2147 4134 1753 4134 \nQ 1366 4134 1134 3806 \nQ 844 3388 844 2259 \nz\n\" transform=\"scale(0.015625)\"/>\n       </defs>\n       <use xlink:href=\"#ArialMT-30\"/>\n      </g>\n     </g>\n    </g>\n    <g id=\"xtick_2\">\n     <g id=\"line2d_2\">\n      <path d=\"M 96.018906 471.035625 \nL 96.018906 27.515625 \n\" clip-path=\"url(#p3426702089)\" style=\"fill: none; stroke: #cccccc; stroke-width: 0.8; stroke-linecap: round\"/>\n     </g>\n     <g id=\"text_2\">\n      <!-- 2 -->\n      <g style=\"fill: #262626\" transform=\"translate(93.238438 485.193437) scale(0.1 -0.1)\">\n       <defs>\n        <path id=\"ArialMT-32\" d=\"M 3222 541 \nL 3222 0 \nL 194 0 \nQ 188 203 259 391 \nQ 375 700 629 1000 \nQ 884 1300 1366 1694 \nQ 2113 2306 2375 2664 \nQ 2638 3022 2638 3341 \nQ 2638 3675 2398 3904 \nQ 2159 4134 1775 4134 \nQ 1369 4134 1125 3890 \nQ 881 3647 878 3216 \nL 300 3275 \nQ 359 3922 746 4261 \nQ 1134 4600 1788 4600 \nQ 2447 4600 2831 4234 \nQ 3216 3869 3216 3328 \nQ 3216 3053 3103 2787 \nQ 2991 2522 2730 2228 \nQ 2469 1934 1863 1422 \nQ 1356 997 1212 845 \nQ 1069 694 975 541 \nL 3222 541 \nz\n\" transform=\"scale(0.015625)\"/>\n       </defs>\n       <use xlink:href=\"#ArialMT-32\"/>\n      </g>\n     </g>\n    </g>\n    <g id=\"xtick_3\">\n     <g id=\"line2d_3\">\n      <path d=\"M 140.658906 471.035625 \nL 140.658906 27.515625 \n\" clip-path=\"url(#p3426702089)\" style=\"fill: none; stroke: #cccccc; stroke-width: 0.8; stroke-linecap: round\"/>\n     </g>\n     <g id=\"text_3\">\n      <!-- 4 -->\n      <g style=\"fill: #262626\" transform=\"translate(137.878437 485.193437) scale(0.1 -0.1)\">\n       <defs>\n        <path id=\"ArialMT-34\" d=\"M 2069 0 \nL 2069 1097 \nL 81 1097 \nL 81 1613 \nL 2172 4581 \nL 2631 4581 \nL 2631 1613 \nL 3250 1613 \nL 3250 1097 \nL 2631 1097 \nL 2631 0 \nL 2069 0 \nz\nM 2069 1613 \nL 2069 3678 \nL 634 1613 \nL 2069 1613 \nz\n\" transform=\"scale(0.015625)\"/>\n       </defs>\n       <use xlink:href=\"#ArialMT-34\"/>\n      </g>\n     </g>\n    </g>\n    <g id=\"xtick_4\">\n     <g id=\"line2d_4\">\n      <path d=\"M 185.298906 471.035625 \nL 185.298906 27.515625 \n\" clip-path=\"url(#p3426702089)\" style=\"fill: none; stroke: #cccccc; stroke-width: 0.8; stroke-linecap: round\"/>\n     </g>\n     <g id=\"text_4\">\n      <!-- 6 -->\n      <g style=\"fill: #262626\" transform=\"translate(182.518438 485.193437) scale(0.1 -0.1)\">\n       <defs>\n        <path id=\"ArialMT-36\" d=\"M 3184 3459 \nL 2625 3416 \nQ 2550 3747 2413 3897 \nQ 2184 4138 1850 4138 \nQ 1581 4138 1378 3988 \nQ 1113 3794 959 3422 \nQ 806 3050 800 2363 \nQ 1003 2672 1297 2822 \nQ 1591 2972 1913 2972 \nQ 2475 2972 2870 2558 \nQ 3266 2144 3266 1488 \nQ 3266 1056 3080 686 \nQ 2894 316 2569 119 \nQ 2244 -78 1831 -78 \nQ 1128 -78 684 439 \nQ 241 956 241 2144 \nQ 241 3472 731 4075 \nQ 1159 4600 1884 4600 \nQ 2425 4600 2770 4297 \nQ 3116 3994 3184 3459 \nz\nM 888 1484 \nQ 888 1194 1011 928 \nQ 1134 663 1356 523 \nQ 1578 384 1822 384 \nQ 2178 384 2434 671 \nQ 2691 959 2691 1453 \nQ 2691 1928 2437 2201 \nQ 2184 2475 1800 2475 \nQ 1419 2475 1153 2201 \nQ 888 1928 888 1484 \nz\n\" transform=\"scale(0.015625)\"/>\n       </defs>\n       <use xlink:href=\"#ArialMT-36\"/>\n      </g>\n     </g>\n    </g>\n    <g id=\"xtick_5\">\n     <g id=\"line2d_5\">\n      <path d=\"M 229.938906 471.035625 \nL 229.938906 27.515625 \n\" clip-path=\"url(#p3426702089)\" style=\"fill: none; stroke: #cccccc; stroke-width: 0.8; stroke-linecap: round\"/>\n     </g>\n     <g id=\"text_5\">\n      <!-- 8 -->\n      <g style=\"fill: #262626\" transform=\"translate(227.158437 485.193437) scale(0.1 -0.1)\">\n       <defs>\n        <path id=\"ArialMT-38\" d=\"M 1131 2484 \nQ 781 2613 612 2850 \nQ 444 3088 444 3419 \nQ 444 3919 803 4259 \nQ 1163 4600 1759 4600 \nQ 2359 4600 2725 4251 \nQ 3091 3903 3091 3403 \nQ 3091 3084 2923 2848 \nQ 2756 2613 2416 2484 \nQ 2838 2347 3058 2040 \nQ 3278 1734 3278 1309 \nQ 3278 722 2862 322 \nQ 2447 -78 1769 -78 \nQ 1091 -78 675 323 \nQ 259 725 259 1325 \nQ 259 1772 486 2073 \nQ 713 2375 1131 2484 \nz\nM 1019 3438 \nQ 1019 3113 1228 2906 \nQ 1438 2700 1772 2700 \nQ 2097 2700 2305 2904 \nQ 2513 3109 2513 3406 \nQ 2513 3716 2298 3927 \nQ 2084 4138 1766 4138 \nQ 1444 4138 1231 3931 \nQ 1019 3725 1019 3438 \nz\nM 838 1322 \nQ 838 1081 952 856 \nQ 1066 631 1291 507 \nQ 1516 384 1775 384 \nQ 2178 384 2440 643 \nQ 2703 903 2703 1303 \nQ 2703 1709 2433 1975 \nQ 2163 2241 1756 2241 \nQ 1359 2241 1098 1978 \nQ 838 1716 838 1322 \nz\n\" transform=\"scale(0.015625)\"/>\n       </defs>\n       <use xlink:href=\"#ArialMT-38\"/>\n      </g>\n     </g>\n    </g>\n    <g id=\"xtick_6\">\n     <g id=\"line2d_6\">\n      <path d=\"M 274.578906 471.035625 \nL 274.578906 27.515625 \n\" clip-path=\"url(#p3426702089)\" style=\"fill: none; stroke: #cccccc; stroke-width: 0.8; stroke-linecap: round\"/>\n     </g>\n     <g id=\"text_6\">\n      <!-- 10 -->\n      <g style=\"fill: #262626\" transform=\"translate(269.017969 485.193437) scale(0.1 -0.1)\">\n       <defs>\n        <path id=\"ArialMT-31\" d=\"M 2384 0 \nL 1822 0 \nL 1822 3584 \nQ 1619 3391 1289 3197 \nQ 959 3003 697 2906 \nL 697 3450 \nQ 1169 3672 1522 3987 \nQ 1875 4303 2022 4600 \nL 2384 4600 \nL 2384 0 \nz\n\" transform=\"scale(0.015625)\"/>\n       </defs>\n       <use xlink:href=\"#ArialMT-31\"/>\n       <use xlink:href=\"#ArialMT-30\" x=\"55.615234\"/>\n      </g>\n     </g>\n    </g>\n    <g id=\"xtick_7\">\n     <g id=\"line2d_7\">\n      <path d=\"M 319.218906 471.035625 \nL 319.218906 27.515625 \n\" clip-path=\"url(#p3426702089)\" style=\"fill: none; stroke: #cccccc; stroke-width: 0.8; stroke-linecap: round\"/>\n     </g>\n     <g id=\"text_7\">\n      <!-- 12 -->\n      <g style=\"fill: #262626\" transform=\"translate(313.657969 485.193437) scale(0.1 -0.1)\">\n       <use xlink:href=\"#ArialMT-31\"/>\n       <use xlink:href=\"#ArialMT-32\" x=\"55.615234\"/>\n      </g>\n     </g>\n    </g>\n    <g id=\"xtick_8\">\n     <g id=\"line2d_8\">\n      <path d=\"M 363.858906 471.035625 \nL 363.858906 27.515625 \n\" clip-path=\"url(#p3426702089)\" style=\"fill: none; stroke: #cccccc; stroke-width: 0.8; stroke-linecap: round\"/>\n     </g>\n     <g id=\"text_8\">\n      <!-- 14 -->\n      <g style=\"fill: #262626\" transform=\"translate(358.297969 485.193437) scale(0.1 -0.1)\">\n       <use xlink:href=\"#ArialMT-31\"/>\n       <use xlink:href=\"#ArialMT-34\" x=\"55.615234\"/>\n      </g>\n     </g>\n    </g>\n    <g id=\"xtick_9\">\n     <g id=\"line2d_9\">\n      <path d=\"M 408.498906 471.035625 \nL 408.498906 27.515625 \n\" clip-path=\"url(#p3426702089)\" style=\"fill: none; stroke: #cccccc; stroke-width: 0.8; stroke-linecap: round\"/>\n     </g>\n     <g id=\"text_9\">\n      <!-- 16 -->\n      <g style=\"fill: #262626\" transform=\"translate(402.937969 485.193437) scale(0.1 -0.1)\">\n       <use xlink:href=\"#ArialMT-31\"/>\n       <use xlink:href=\"#ArialMT-36\" x=\"55.615234\"/>\n      </g>\n     </g>\n    </g>\n    <g id=\"xtick_10\">\n     <g id=\"line2d_10\">\n      <path d=\"M 453.138906 471.035625 \nL 453.138906 27.515625 \n\" clip-path=\"url(#p3426702089)\" style=\"fill: none; stroke: #cccccc; stroke-width: 0.8; stroke-linecap: round\"/>\n     </g>\n     <g id=\"text_10\">\n      <!-- 18 -->\n      <g style=\"fill: #262626\" transform=\"translate(447.577969 485.193437) scale(0.1 -0.1)\">\n       <use xlink:href=\"#ArialMT-31\"/>\n       <use xlink:href=\"#ArialMT-38\" x=\"55.615234\"/>\n      </g>\n     </g>\n    </g>\n    <g id=\"xtick_11\">\n     <g id=\"line2d_11\">\n      <path d=\"M 497.778906 471.035625 \nL 497.778906 27.515625 \n\" clip-path=\"url(#p3426702089)\" style=\"fill: none; stroke: #cccccc; stroke-width: 0.8; stroke-linecap: round\"/>\n     </g>\n     <g id=\"text_11\">\n      <!-- 20 -->\n      <g style=\"fill: #262626\" transform=\"translate(492.217969 485.193437) scale(0.1 -0.1)\">\n       <use xlink:href=\"#ArialMT-32\"/>\n       <use xlink:href=\"#ArialMT-30\" x=\"55.615234\"/>\n      </g>\n     </g>\n    </g>\n    <g id=\"xtick_12\">\n     <g id=\"line2d_12\">\n      <path d=\"M 542.418906 471.035625 \nL 542.418906 27.515625 \n\" clip-path=\"url(#p3426702089)\" style=\"fill: none; stroke: #cccccc; stroke-width: 0.8; stroke-linecap: round\"/>\n     </g>\n     <g id=\"text_12\">\n      <!-- 22 -->\n      <g style=\"fill: #262626\" transform=\"translate(536.857969 485.193437) scale(0.1 -0.1)\">\n       <use xlink:href=\"#ArialMT-32\"/>\n       <use xlink:href=\"#ArialMT-32\" x=\"55.615234\"/>\n      </g>\n     </g>\n    </g>\n    <g id=\"xtick_13\">\n     <g id=\"line2d_13\">\n      <path d=\"M 587.058906 471.035625 \nL 587.058906 27.515625 \n\" clip-path=\"url(#p3426702089)\" style=\"fill: none; stroke: #cccccc; stroke-width: 0.8; stroke-linecap: round\"/>\n     </g>\n     <g id=\"text_13\">\n      <!-- 24 -->\n      <g style=\"fill: #262626\" transform=\"translate(581.497969 485.193437) scale(0.1 -0.1)\">\n       <use xlink:href=\"#ArialMT-32\"/>\n       <use xlink:href=\"#ArialMT-34\" x=\"55.615234\"/>\n      </g>\n     </g>\n    </g>\n    <g id=\"xtick_14\">\n     <g id=\"line2d_14\">\n      <path d=\"M 631.698906 471.035625 \nL 631.698906 27.515625 \n\" clip-path=\"url(#p3426702089)\" style=\"fill: none; stroke: #cccccc; stroke-width: 0.8; stroke-linecap: round\"/>\n     </g>\n     <g id=\"text_14\">\n      <!-- 26 -->\n      <g style=\"fill: #262626\" transform=\"translate(626.137969 485.193437) scale(0.1 -0.1)\">\n       <use xlink:href=\"#ArialMT-32\"/>\n       <use xlink:href=\"#ArialMT-36\" x=\"55.615234\"/>\n      </g>\n     </g>\n    </g>\n    <g id=\"xtick_15\">\n     <g id=\"line2d_15\">\n      <path d=\"M 676.338906 471.035625 \nL 676.338906 27.515625 \n\" clip-path=\"url(#p3426702089)\" style=\"fill: none; stroke: #cccccc; stroke-width: 0.8; stroke-linecap: round\"/>\n     </g>\n     <g id=\"text_15\">\n      <!-- 28 -->\n      <g style=\"fill: #262626\" transform=\"translate(670.777969 485.193437) scale(0.1 -0.1)\">\n       <use xlink:href=\"#ArialMT-32\"/>\n       <use xlink:href=\"#ArialMT-38\" x=\"55.615234\"/>\n      </g>\n     </g>\n    </g>\n    <g id=\"text_16\">\n     <!-- Epochs -->\n     <g style=\"fill: #262626\" transform=\"translate(361.164062 501.917656) scale(0.15 -0.15)\">\n      <defs>\n       <path id=\"ArialMT-45\" d=\"M 506 0 \nL 506 4581 \nL 3819 4581 \nL 3819 4041 \nL 1113 4041 \nL 1113 2638 \nL 3647 2638 \nL 3647 2100 \nL 1113 2100 \nL 1113 541 \nL 3925 541 \nL 3925 0 \nL 506 0 \nz\n\" transform=\"scale(0.015625)\"/>\n       <path id=\"ArialMT-70\" d=\"M 422 -1272 \nL 422 3319 \nL 934 3319 \nL 934 2888 \nQ 1116 3141 1344 3267 \nQ 1572 3394 1897 3394 \nQ 2322 3394 2647 3175 \nQ 2972 2956 3137 2557 \nQ 3303 2159 3303 1684 \nQ 3303 1175 3120 767 \nQ 2938 359 2589 142 \nQ 2241 -75 1856 -75 \nQ 1575 -75 1351 44 \nQ 1128 163 984 344 \nL 984 -1272 \nL 422 -1272 \nz\nM 931 1641 \nQ 931 1000 1190 694 \nQ 1450 388 1819 388 \nQ 2194 388 2461 705 \nQ 2728 1022 2728 1688 \nQ 2728 2322 2467 2637 \nQ 2206 2953 1844 2953 \nQ 1484 2953 1207 2617 \nQ 931 2281 931 1641 \nz\n\" transform=\"scale(0.015625)\"/>\n       <path id=\"ArialMT-6f\" d=\"M 213 1659 \nQ 213 2581 725 3025 \nQ 1153 3394 1769 3394 \nQ 2453 3394 2887 2945 \nQ 3322 2497 3322 1706 \nQ 3322 1066 3130 698 \nQ 2938 331 2570 128 \nQ 2203 -75 1769 -75 \nQ 1072 -75 642 372 \nQ 213 819 213 1659 \nz\nM 791 1659 \nQ 791 1022 1069 705 \nQ 1347 388 1769 388 \nQ 2188 388 2466 706 \nQ 2744 1025 2744 1678 \nQ 2744 2294 2464 2611 \nQ 2184 2928 1769 2928 \nQ 1347 2928 1069 2612 \nQ 791 2297 791 1659 \nz\n\" transform=\"scale(0.015625)\"/>\n       <path id=\"ArialMT-63\" d=\"M 2588 1216 \nL 3141 1144 \nQ 3050 572 2676 248 \nQ 2303 -75 1759 -75 \nQ 1078 -75 664 370 \nQ 250 816 250 1647 \nQ 250 2184 428 2587 \nQ 606 2991 970 3192 \nQ 1334 3394 1763 3394 \nQ 2303 3394 2647 3120 \nQ 2991 2847 3088 2344 \nL 2541 2259 \nQ 2463 2594 2264 2762 \nQ 2066 2931 1784 2931 \nQ 1359 2931 1093 2626 \nQ 828 2322 828 1663 \nQ 828 994 1084 691 \nQ 1341 388 1753 388 \nQ 2084 388 2306 591 \nQ 2528 794 2588 1216 \nz\n\" transform=\"scale(0.015625)\"/>\n       <path id=\"ArialMT-68\" d=\"M 422 0 \nL 422 4581 \nL 984 4581 \nL 984 2938 \nQ 1378 3394 1978 3394 \nQ 2347 3394 2619 3248 \nQ 2891 3103 3008 2847 \nQ 3125 2591 3125 2103 \nL 3125 0 \nL 2563 0 \nL 2563 2103 \nQ 2563 2525 2380 2717 \nQ 2197 2909 1863 2909 \nQ 1613 2909 1392 2779 \nQ 1172 2650 1078 2428 \nQ 984 2206 984 1816 \nL 984 0 \nL 422 0 \nz\n\" transform=\"scale(0.015625)\"/>\n       <path id=\"ArialMT-73\" d=\"M 197 991 \nL 753 1078 \nQ 800 744 1014 566 \nQ 1228 388 1613 388 \nQ 2000 388 2187 545 \nQ 2375 703 2375 916 \nQ 2375 1106 2209 1216 \nQ 2094 1291 1634 1406 \nQ 1016 1563 777 1677 \nQ 538 1791 414 1992 \nQ 291 2194 291 2438 \nQ 291 2659 392 2848 \nQ 494 3038 669 3163 \nQ 800 3259 1026 3326 \nQ 1253 3394 1513 3394 \nQ 1903 3394 2198 3281 \nQ 2494 3169 2634 2976 \nQ 2775 2784 2828 2463 \nL 2278 2388 \nQ 2241 2644 2061 2787 \nQ 1881 2931 1553 2931 \nQ 1166 2931 1000 2803 \nQ 834 2675 834 2503 \nQ 834 2394 903 2306 \nQ 972 2216 1119 2156 \nQ 1203 2125 1616 2013 \nQ 2213 1853 2448 1751 \nQ 2684 1650 2818 1456 \nQ 2953 1263 2953 975 \nQ 2953 694 2789 445 \nQ 2625 197 2315 61 \nQ 2006 -75 1616 -75 \nQ 969 -75 630 194 \nQ 291 463 197 991 \nz\n\" transform=\"scale(0.015625)\"/>\n      </defs>\n      <use xlink:href=\"#ArialMT-45\"/>\n      <use xlink:href=\"#ArialMT-70\" x=\"66.699219\"/>\n      <use xlink:href=\"#ArialMT-6f\" x=\"122.314453\"/>\n      <use xlink:href=\"#ArialMT-63\" x=\"177.929688\"/>\n      <use xlink:href=\"#ArialMT-68\" x=\"227.929688\"/>\n      <use xlink:href=\"#ArialMT-73\" x=\"283.544922\"/>\n     </g>\n    </g>\n   </g>\n   <g id=\"matplotlib.axis_2\">\n    <g id=\"ytick_1\">\n     <g id=\"line2d_16\">\n      <path d=\"M 51.378906 424.25724 \nL 720.978906 424.25724 \n\" clip-path=\"url(#p3426702089)\" style=\"fill: none; stroke: #cccccc; stroke-width: 0.8; stroke-linecap: round\"/>\n     </g>\n     <g id=\"text_17\">\n      <!-- 0.58 -->\n      <g style=\"fill: #262626\" transform=\"translate(24.917969 427.836146) scale(0.1 -0.1)\">\n       <defs>\n        <path id=\"ArialMT-2e\" d=\"M 581 0 \nL 581 641 \nL 1222 641 \nL 1222 0 \nL 581 0 \nz\n\" transform=\"scale(0.015625)\"/>\n        <path id=\"ArialMT-35\" d=\"M 266 1200 \nL 856 1250 \nQ 922 819 1161 601 \nQ 1400 384 1738 384 \nQ 2144 384 2425 690 \nQ 2706 997 2706 1503 \nQ 2706 1984 2436 2262 \nQ 2166 2541 1728 2541 \nQ 1456 2541 1237 2417 \nQ 1019 2294 894 2097 \nL 366 2166 \nL 809 4519 \nL 3088 4519 \nL 3088 3981 \nL 1259 3981 \nL 1013 2750 \nQ 1425 3038 1878 3038 \nQ 2478 3038 2890 2622 \nQ 3303 2206 3303 1553 \nQ 3303 931 2941 478 \nQ 2500 -78 1738 -78 \nQ 1113 -78 717 272 \nQ 322 622 266 1200 \nz\n\" transform=\"scale(0.015625)\"/>\n       </defs>\n       <use xlink:href=\"#ArialMT-30\"/>\n       <use xlink:href=\"#ArialMT-2e\" x=\"55.615234\"/>\n       <use xlink:href=\"#ArialMT-35\" x=\"83.398438\"/>\n       <use xlink:href=\"#ArialMT-38\" x=\"139.013672\"/>\n      </g>\n     </g>\n    </g>\n    <g id=\"ytick_2\">\n     <g id=\"line2d_17\">\n      <path d=\"M 51.378906 365.624958 \nL 720.978906 365.624958 \n\" clip-path=\"url(#p3426702089)\" style=\"fill: none; stroke: #cccccc; stroke-width: 0.8; stroke-linecap: round\"/>\n     </g>\n     <g id=\"text_18\">\n      <!-- 0.60 -->\n      <g style=\"fill: #262626\" transform=\"translate(24.917969 369.203864) scale(0.1 -0.1)\">\n       <use xlink:href=\"#ArialMT-30\"/>\n       <use xlink:href=\"#ArialMT-2e\" x=\"55.615234\"/>\n       <use xlink:href=\"#ArialMT-36\" x=\"83.398438\"/>\n       <use xlink:href=\"#ArialMT-30\" x=\"139.013672\"/>\n      </g>\n     </g>\n    </g>\n    <g id=\"ytick_3\">\n     <g id=\"line2d_18\">\n      <path d=\"M 51.378906 306.992676 \nL 720.978906 306.992676 \n\" clip-path=\"url(#p3426702089)\" style=\"fill: none; stroke: #cccccc; stroke-width: 0.8; stroke-linecap: round\"/>\n     </g>\n     <g id=\"text_19\">\n      <!-- 0.62 -->\n      <g style=\"fill: #262626\" transform=\"translate(24.917969 310.571582) scale(0.1 -0.1)\">\n       <use xlink:href=\"#ArialMT-30\"/>\n       <use xlink:href=\"#ArialMT-2e\" x=\"55.615234\"/>\n       <use xlink:href=\"#ArialMT-36\" x=\"83.398438\"/>\n       <use xlink:href=\"#ArialMT-32\" x=\"139.013672\"/>\n      </g>\n     </g>\n    </g>\n    <g id=\"ytick_4\">\n     <g id=\"line2d_19\">\n      <path d=\"M 51.378906 248.360394 \nL 720.978906 248.360394 \n\" clip-path=\"url(#p3426702089)\" style=\"fill: none; stroke: #cccccc; stroke-width: 0.8; stroke-linecap: round\"/>\n     </g>\n     <g id=\"text_20\">\n      <!-- 0.64 -->\n      <g style=\"fill: #262626\" transform=\"translate(24.917969 251.9393) scale(0.1 -0.1)\">\n       <use xlink:href=\"#ArialMT-30\"/>\n       <use xlink:href=\"#ArialMT-2e\" x=\"55.615234\"/>\n       <use xlink:href=\"#ArialMT-36\" x=\"83.398438\"/>\n       <use xlink:href=\"#ArialMT-34\" x=\"139.013672\"/>\n      </g>\n     </g>\n    </g>\n    <g id=\"ytick_5\">\n     <g id=\"line2d_20\">\n      <path d=\"M 51.378906 189.728112 \nL 720.978906 189.728112 \n\" clip-path=\"url(#p3426702089)\" style=\"fill: none; stroke: #cccccc; stroke-width: 0.8; stroke-linecap: round\"/>\n     </g>\n     <g id=\"text_21\">\n      <!-- 0.66 -->\n      <g style=\"fill: #262626\" transform=\"translate(24.917969 193.307018) scale(0.1 -0.1)\">\n       <use xlink:href=\"#ArialMT-30\"/>\n       <use xlink:href=\"#ArialMT-2e\" x=\"55.615234\"/>\n       <use xlink:href=\"#ArialMT-36\" x=\"83.398438\"/>\n       <use xlink:href=\"#ArialMT-36\" x=\"139.013672\"/>\n      </g>\n     </g>\n    </g>\n    <g id=\"ytick_6\">\n     <g id=\"line2d_21\">\n      <path d=\"M 51.378906 131.095829 \nL 720.978906 131.095829 \n\" clip-path=\"url(#p3426702089)\" style=\"fill: none; stroke: #cccccc; stroke-width: 0.8; stroke-linecap: round\"/>\n     </g>\n     <g id=\"text_22\">\n      <!-- 0.68 -->\n      <g style=\"fill: #262626\" transform=\"translate(24.917969 134.674736) scale(0.1 -0.1)\">\n       <use xlink:href=\"#ArialMT-30\"/>\n       <use xlink:href=\"#ArialMT-2e\" x=\"55.615234\"/>\n       <use xlink:href=\"#ArialMT-36\" x=\"83.398438\"/>\n       <use xlink:href=\"#ArialMT-38\" x=\"139.013672\"/>\n      </g>\n     </g>\n    </g>\n    <g id=\"ytick_7\">\n     <g id=\"line2d_22\">\n      <path d=\"M 51.378906 72.463547 \nL 720.978906 72.463547 \n\" clip-path=\"url(#p3426702089)\" style=\"fill: none; stroke: #cccccc; stroke-width: 0.8; stroke-linecap: round\"/>\n     </g>\n     <g id=\"text_23\">\n      <!-- 0.70 -->\n      <g style=\"fill: #262626\" transform=\"translate(24.917969 76.042454) scale(0.1 -0.1)\">\n       <defs>\n        <path id=\"ArialMT-37\" d=\"M 303 3981 \nL 303 4522 \nL 3269 4522 \nL 3269 4084 \nQ 2831 3619 2401 2847 \nQ 1972 2075 1738 1259 \nQ 1569 684 1522 0 \nL 944 0 \nQ 953 541 1156 1306 \nQ 1359 2072 1739 2783 \nQ 2119 3494 2547 3981 \nL 303 3981 \nz\n\" transform=\"scale(0.015625)\"/>\n       </defs>\n       <use xlink:href=\"#ArialMT-30\"/>\n       <use xlink:href=\"#ArialMT-2e\" x=\"55.615234\"/>\n       <use xlink:href=\"#ArialMT-37\" x=\"83.398438\"/>\n       <use xlink:href=\"#ArialMT-30\" x=\"139.013672\"/>\n      </g>\n     </g>\n    </g>\n    <g id=\"text_24\">\n     <!-- Loss -->\n     <g style=\"fill: #262626\" transform=\"translate(17.936719 265.117031) rotate(-90) scale(0.15 -0.15)\">\n      <defs>\n       <path id=\"ArialMT-4c\" d=\"M 469 0 \nL 469 4581 \nL 1075 4581 \nL 1075 541 \nL 3331 541 \nL 3331 0 \nL 469 0 \nz\n\" transform=\"scale(0.015625)\"/>\n      </defs>\n      <use xlink:href=\"#ArialMT-4c\"/>\n      <use xlink:href=\"#ArialMT-6f\" x=\"55.615234\"/>\n      <use xlink:href=\"#ArialMT-73\" x=\"111.230469\"/>\n      <use xlink:href=\"#ArialMT-73\" x=\"161.230469\"/>\n     </g>\n    </g>\n   </g>\n   <g id=\"line2d_23\">\n    <path d=\"M 51.378906 47.675625 \nL 73.698906 66.818677 \nL 96.018906 81.867447 \nL 118.338906 114.561592 \nL 140.658906 155.857905 \nL 162.978906 177.938824 \nL 185.298906 186.008216 \nL 207.618906 203.267944 \nL 229.938906 227.118258 \nL 252.258906 238.575467 \nL 274.578906 236.832982 \nL 296.898906 250.26001 \nL 319.218906 253.908012 \nL 341.538906 248.640366 \nL 363.858906 254.331052 \nL 386.178906 272.048244 \nL 408.498906 266.225455 \nL 430.818906 265.084068 \nL 453.138906 275.950663 \nL 475.458906 286.816909 \nL 497.778906 282.869233 \nL 520.098906 282.67073 \nL 542.418906 283.842173 \nL 564.738906 290.879913 \nL 587.058906 293.167406 \nL 609.378906 286.942546 \nL 631.698906 311.079605 \nL 654.018906 307.522292 \nL 676.338906 301.555695 \nL 698.658906 312.596154 \n\" clip-path=\"url(#p3426702089)\" style=\"fill: none; stroke: #000080; stroke-width: 2; stroke-linecap: round\"/>\n   </g>\n   <g id=\"line2d_24\">\n    <path d=\"M 51.378906 102.731143 \nL 73.698906 148.621487 \nL 96.018906 170.987054 \nL 118.338906 172.305626 \nL 140.658906 193.295657 \nL 162.978906 215.964569 \nL 185.298906 284.91384 \nL 207.618906 305.118774 \nL 229.938906 275.015816 \nL 252.258906 315.935569 \nL 274.578906 288.826219 \nL 296.898906 348.572923 \nL 319.218906 352.845787 \nL 341.538906 327.087161 \nL 363.858906 391.432091 \nL 386.178906 403.841272 \nL 408.498906 410.453526 \nL 430.818906 375.025433 \nL 453.138906 411.746061 \nL 475.458906 371.492235 \nL 497.778906 420.521569 \nL 520.098906 425.90594 \nL 542.418906 422.91373 \nL 564.738906 412.294039 \nL 587.058906 426.010259 \nL 609.378906 429.302844 \nL 631.698906 434.22049 \nL 654.018906 450.875625 \nL 676.338906 415.556219 \nL 698.658906 395.228095 \n\" clip-path=\"url(#p3426702089)\" style=\"fill: none; stroke: #00bfff; stroke-width: 2; stroke-linecap: round\"/>\n   </g>\n   <g id=\"text_25\">\n    <!-- Training and validation loss -->\n    <g style=\"fill: #262626\" transform=\"translate(265.380469 21.515625) scale(0.2 -0.2)\">\n     <defs>\n      <path id=\"ArialMT-54\" d=\"M 1659 0 \nL 1659 4041 \nL 150 4041 \nL 150 4581 \nL 3781 4581 \nL 3781 4041 \nL 2266 4041 \nL 2266 0 \nL 1659 0 \nz\n\" transform=\"scale(0.015625)\"/>\n      <path id=\"ArialMT-72\" d=\"M 416 0 \nL 416 3319 \nL 922 3319 \nL 922 2816 \nQ 1116 3169 1280 3281 \nQ 1444 3394 1641 3394 \nQ 1925 3394 2219 3213 \nL 2025 2691 \nQ 1819 2813 1613 2813 \nQ 1428 2813 1281 2702 \nQ 1134 2591 1072 2394 \nQ 978 2094 978 1738 \nL 978 0 \nL 416 0 \nz\n\" transform=\"scale(0.015625)\"/>\n      <path id=\"ArialMT-61\" d=\"M 2588 409 \nQ 2275 144 1986 34 \nQ 1697 -75 1366 -75 \nQ 819 -75 525 192 \nQ 231 459 231 875 \nQ 231 1119 342 1320 \nQ 453 1522 633 1644 \nQ 813 1766 1038 1828 \nQ 1203 1872 1538 1913 \nQ 2219 1994 2541 2106 \nQ 2544 2222 2544 2253 \nQ 2544 2597 2384 2738 \nQ 2169 2928 1744 2928 \nQ 1347 2928 1158 2789 \nQ 969 2650 878 2297 \nL 328 2372 \nQ 403 2725 575 2942 \nQ 747 3159 1072 3276 \nQ 1397 3394 1825 3394 \nQ 2250 3394 2515 3294 \nQ 2781 3194 2906 3042 \nQ 3031 2891 3081 2659 \nQ 3109 2516 3109 2141 \nL 3109 1391 \nQ 3109 606 3145 398 \nQ 3181 191 3288 0 \nL 2700 0 \nQ 2613 175 2588 409 \nz\nM 2541 1666 \nQ 2234 1541 1622 1453 \nQ 1275 1403 1131 1340 \nQ 988 1278 909 1158 \nQ 831 1038 831 891 \nQ 831 666 1001 516 \nQ 1172 366 1500 366 \nQ 1825 366 2078 508 \nQ 2331 650 2450 897 \nQ 2541 1088 2541 1459 \nL 2541 1666 \nz\n\" transform=\"scale(0.015625)\"/>\n      <path id=\"ArialMT-69\" d=\"M 425 3934 \nL 425 4581 \nL 988 4581 \nL 988 3934 \nL 425 3934 \nz\nM 425 0 \nL 425 3319 \nL 988 3319 \nL 988 0 \nL 425 0 \nz\n\" transform=\"scale(0.015625)\"/>\n      <path id=\"ArialMT-6e\" d=\"M 422 0 \nL 422 3319 \nL 928 3319 \nL 928 2847 \nQ 1294 3394 1984 3394 \nQ 2284 3394 2536 3286 \nQ 2788 3178 2913 3003 \nQ 3038 2828 3088 2588 \nQ 3119 2431 3119 2041 \nL 3119 0 \nL 2556 0 \nL 2556 2019 \nQ 2556 2363 2490 2533 \nQ 2425 2703 2258 2804 \nQ 2091 2906 1866 2906 \nQ 1506 2906 1245 2678 \nQ 984 2450 984 1813 \nL 984 0 \nL 422 0 \nz\n\" transform=\"scale(0.015625)\"/>\n      <path id=\"ArialMT-67\" d=\"M 319 -275 \nL 866 -356 \nQ 900 -609 1056 -725 \nQ 1266 -881 1628 -881 \nQ 2019 -881 2231 -725 \nQ 2444 -569 2519 -288 \nQ 2563 -116 2559 434 \nQ 2191 0 1641 0 \nQ 956 0 581 494 \nQ 206 988 206 1678 \nQ 206 2153 378 2554 \nQ 550 2956 876 3175 \nQ 1203 3394 1644 3394 \nQ 2231 3394 2613 2919 \nL 2613 3319 \nL 3131 3319 \nL 3131 450 \nQ 3131 -325 2973 -648 \nQ 2816 -972 2473 -1159 \nQ 2131 -1347 1631 -1347 \nQ 1038 -1347 672 -1080 \nQ 306 -813 319 -275 \nz\nM 784 1719 \nQ 784 1066 1043 766 \nQ 1303 466 1694 466 \nQ 2081 466 2343 764 \nQ 2606 1063 2606 1700 \nQ 2606 2309 2336 2618 \nQ 2066 2928 1684 2928 \nQ 1309 2928 1046 2623 \nQ 784 2319 784 1719 \nz\n\" transform=\"scale(0.015625)\"/>\n      <path id=\"ArialMT-20\" transform=\"scale(0.015625)\"/>\n      <path id=\"ArialMT-64\" d=\"M 2575 0 \nL 2575 419 \nQ 2259 -75 1647 -75 \nQ 1250 -75 917 144 \nQ 584 363 401 755 \nQ 219 1147 219 1656 \nQ 219 2153 384 2558 \nQ 550 2963 881 3178 \nQ 1213 3394 1622 3394 \nQ 1922 3394 2156 3267 \nQ 2391 3141 2538 2938 \nL 2538 4581 \nL 3097 4581 \nL 3097 0 \nL 2575 0 \nz\nM 797 1656 \nQ 797 1019 1065 703 \nQ 1334 388 1700 388 \nQ 2069 388 2326 689 \nQ 2584 991 2584 1609 \nQ 2584 2291 2321 2609 \nQ 2059 2928 1675 2928 \nQ 1300 2928 1048 2622 \nQ 797 2316 797 1656 \nz\n\" transform=\"scale(0.015625)\"/>\n      <path id=\"ArialMT-76\" d=\"M 1344 0 \nL 81 3319 \nL 675 3319 \nL 1388 1331 \nQ 1503 1009 1600 663 \nQ 1675 925 1809 1294 \nL 2547 3319 \nL 3125 3319 \nL 1869 0 \nL 1344 0 \nz\n\" transform=\"scale(0.015625)\"/>\n      <path id=\"ArialMT-6c\" d=\"M 409 0 \nL 409 4581 \nL 972 4581 \nL 972 0 \nL 409 0 \nz\n\" transform=\"scale(0.015625)\"/>\n      <path id=\"ArialMT-74\" d=\"M 1650 503 \nL 1731 6 \nQ 1494 -44 1306 -44 \nQ 1000 -44 831 53 \nQ 663 150 594 308 \nQ 525 466 525 972 \nL 525 2881 \nL 113 2881 \nL 113 3319 \nL 525 3319 \nL 525 4141 \nL 1084 4478 \nL 1084 3319 \nL 1650 3319 \nL 1650 2881 \nL 1084 2881 \nL 1084 941 \nQ 1084 700 1114 631 \nQ 1144 563 1211 522 \nQ 1278 481 1403 481 \nQ 1497 481 1650 503 \nz\n\" transform=\"scale(0.015625)\"/>\n     </defs>\n     <use xlink:href=\"#ArialMT-54\"/>\n     <use xlink:href=\"#ArialMT-72\" x=\"57.333984\"/>\n     <use xlink:href=\"#ArialMT-61\" x=\"90.634766\"/>\n     <use xlink:href=\"#ArialMT-69\" x=\"146.25\"/>\n     <use xlink:href=\"#ArialMT-6e\" x=\"168.466797\"/>\n     <use xlink:href=\"#ArialMT-69\" x=\"224.082031\"/>\n     <use xlink:href=\"#ArialMT-6e\" x=\"246.298828\"/>\n     <use xlink:href=\"#ArialMT-67\" x=\"301.914062\"/>\n     <use xlink:href=\"#ArialMT-20\" x=\"357.529297\"/>\n     <use xlink:href=\"#ArialMT-61\" x=\"385.3125\"/>\n     <use xlink:href=\"#ArialMT-6e\" x=\"440.927734\"/>\n     <use xlink:href=\"#ArialMT-64\" x=\"496.542969\"/>\n     <use xlink:href=\"#ArialMT-20\" x=\"552.158203\"/>\n     <use xlink:href=\"#ArialMT-76\" x=\"579.941406\"/>\n     <use xlink:href=\"#ArialMT-61\" x=\"629.941406\"/>\n     <use xlink:href=\"#ArialMT-6c\" x=\"685.556641\"/>\n     <use xlink:href=\"#ArialMT-69\" x=\"707.773438\"/>\n     <use xlink:href=\"#ArialMT-64\" x=\"729.990234\"/>\n     <use xlink:href=\"#ArialMT-61\" x=\"785.605469\"/>\n     <use xlink:href=\"#ArialMT-74\" x=\"841.220703\"/>\n     <use xlink:href=\"#ArialMT-69\" x=\"869.003906\"/>\n     <use xlink:href=\"#ArialMT-6f\" x=\"891.220703\"/>\n     <use xlink:href=\"#ArialMT-6e\" x=\"946.835938\"/>\n     <use xlink:href=\"#ArialMT-20\" x=\"1002.451172\"/>\n     <use xlink:href=\"#ArialMT-6c\" x=\"1030.234375\"/>\n     <use xlink:href=\"#ArialMT-6f\" x=\"1052.451172\"/>\n     <use xlink:href=\"#ArialMT-73\" x=\"1108.066406\"/>\n     <use xlink:href=\"#ArialMT-73\" x=\"1158.066406\"/>\n    </g>\n   </g>\n   <g id=\"legend_1\">\n    <g id=\"line2d_25\">\n     <path d=\"M 759.658906 37.470781 \nL 772.658906 37.470781 \nL 785.658906 37.470781 \n\" style=\"fill: none; stroke: #000080; stroke-width: 2; stroke-linecap: round\"/>\n    </g>\n    <g id=\"text_26\">\n     <!-- Training loss -->\n     <g style=\"fill: #262626\" transform=\"translate(796.058906 42.020781) scale(0.13 -0.13)\">\n      <use xlink:href=\"#ArialMT-54\"/>\n      <use xlink:href=\"#ArialMT-72\" x=\"57.333984\"/>\n      <use xlink:href=\"#ArialMT-61\" x=\"90.634766\"/>\n      <use xlink:href=\"#ArialMT-69\" x=\"146.25\"/>\n      <use xlink:href=\"#ArialMT-6e\" x=\"168.466797\"/>\n      <use xlink:href=\"#ArialMT-69\" x=\"224.082031\"/>\n      <use xlink:href=\"#ArialMT-6e\" x=\"246.298828\"/>\n      <use xlink:href=\"#ArialMT-67\" x=\"301.914062\"/>\n      <use xlink:href=\"#ArialMT-20\" x=\"357.529297\"/>\n      <use xlink:href=\"#ArialMT-6c\" x=\"385.3125\"/>\n      <use xlink:href=\"#ArialMT-6f\" x=\"407.529297\"/>\n      <use xlink:href=\"#ArialMT-73\" x=\"463.144531\"/>\n      <use xlink:href=\"#ArialMT-73\" x=\"513.144531\"/>\n     </g>\n    </g>\n    <g id=\"line2d_26\">\n     <path d=\"M 759.658906 56.012031 \nL 772.658906 56.012031 \nL 785.658906 56.012031 \n\" style=\"fill: none; stroke: #00bfff; stroke-width: 2; stroke-linecap: round\"/>\n    </g>\n    <g id=\"text_27\">\n     <!-- Validation loss -->\n     <g style=\"fill: #262626\" transform=\"translate(796.058906 60.562031) scale(0.13 -0.13)\">\n      <defs>\n       <path id=\"ArialMT-56\" d=\"M 1803 0 \nL 28 4581 \nL 684 4581 \nL 1875 1253 \nQ 2019 853 2116 503 \nQ 2222 878 2363 1253 \nL 3600 4581 \nL 4219 4581 \nL 2425 0 \nL 1803 0 \nz\n\" transform=\"scale(0.015625)\"/>\n      </defs>\n      <use xlink:href=\"#ArialMT-56\"/>\n      <use xlink:href=\"#ArialMT-61\" x=\"59.324219\"/>\n      <use xlink:href=\"#ArialMT-6c\" x=\"114.939453\"/>\n      <use xlink:href=\"#ArialMT-69\" x=\"137.15625\"/>\n      <use xlink:href=\"#ArialMT-64\" x=\"159.373047\"/>\n      <use xlink:href=\"#ArialMT-61\" x=\"214.988281\"/>\n      <use xlink:href=\"#ArialMT-74\" x=\"270.603516\"/>\n      <use xlink:href=\"#ArialMT-69\" x=\"298.386719\"/>\n      <use xlink:href=\"#ArialMT-6f\" x=\"320.603516\"/>\n      <use xlink:href=\"#ArialMT-6e\" x=\"376.21875\"/>\n      <use xlink:href=\"#ArialMT-20\" x=\"431.833984\"/>\n      <use xlink:href=\"#ArialMT-6c\" x=\"459.617188\"/>\n      <use xlink:href=\"#ArialMT-6f\" x=\"481.833984\"/>\n      <use xlink:href=\"#ArialMT-73\" x=\"537.449219\"/>\n      <use xlink:href=\"#ArialMT-73\" x=\"587.449219\"/>\n     </g>\n    </g>\n   </g>\n  </g>\n </g>\n <defs>\n  <clipPath id=\"p3426702089\">\n   <rect x=\"51.378906\" y=\"27.515625\" width=\"669.6\" height=\"443.52\"/>\n  </clipPath>\n </defs>\n</svg>\n",
      "text/plain": [
       "<Figure size 2400x1600 with 1 Axes>"
      ]
     },
     "metadata": {},
     "output_type": "display_data"
    }
   ],
   "source": [
    "# Plot loss curves\n",
    "plot_metric_curves(epochs, loss, val_loss, \"navy\", \"deepskyblue\", \"Loss\", 2)"
   ]
  },
  {
   "cell_type": "code",
   "execution_count": 20,
   "metadata": {},
   "outputs": [
    {
     "data": {
      "image/svg+xml": "<?xml version=\"1.0\" encoding=\"utf-8\" standalone=\"no\"?>\n<!DOCTYPE svg PUBLIC \"-//W3C//DTD SVG 1.1//EN\"\n  \"http://www.w3.org/Graphics/SVG/1.1/DTD/svg11.dtd\">\n<svg xmlns:xlink=\"http://www.w3.org/1999/xlink\" width=\"920.398125pt\" height=\"512.098906pt\" viewBox=\"0 0 920.398125 512.098906\" xmlns=\"http://www.w3.org/2000/svg\" version=\"1.1\">\n <metadata>\n  <rdf:RDF xmlns:dc=\"http://purl.org/dc/elements/1.1/\" xmlns:cc=\"http://creativecommons.org/ns#\" xmlns:rdf=\"http://www.w3.org/1999/02/22-rdf-syntax-ns#\">\n   <cc:Work>\n    <dc:type rdf:resource=\"http://purl.org/dc/dcmitype/StillImage\"/>\n    <dc:date>2023-04-16T13:32:30.589220</dc:date>\n    <dc:format>image/svg+xml</dc:format>\n    <dc:creator>\n     <cc:Agent>\n      <dc:title>Matplotlib v3.6.3, https://matplotlib.org/</dc:title>\n     </cc:Agent>\n    </dc:creator>\n   </cc:Work>\n  </rdf:RDF>\n </metadata>\n <defs>\n  <style type=\"text/css\">*{stroke-linejoin: round; stroke-linecap: butt}</style>\n </defs>\n <g id=\"figure_1\">\n  <g id=\"patch_1\">\n   <path d=\"M 0 512.098906 \nL 920.398125 512.098906 \nL 920.398125 0 \nL 0 0 \nz\n\" style=\"fill: #ffffff\"/>\n  </g>\n  <g id=\"axes_1\">\n   <g id=\"patch_2\">\n    <path d=\"M 51.554688 471.035625 \nL 721.154688 471.035625 \nL 721.154688 27.515625 \nL 51.554688 27.515625 \nz\n\" style=\"fill: #ffffff\"/>\n   </g>\n   <g id=\"matplotlib.axis_1\">\n    <g id=\"xtick_1\">\n     <g id=\"line2d_1\">\n      <path d=\"M 51.554688 471.035625 \nL 51.554688 27.515625 \n\" clip-path=\"url(#p0623f9520b)\" style=\"fill: none; stroke: #cccccc; stroke-width: 0.8; stroke-linecap: round\"/>\n     </g>\n     <g id=\"text_1\">\n      <!-- 0 -->\n      <g style=\"fill: #262626\" transform=\"translate(48.774219 485.193437) scale(0.1 -0.1)\">\n       <defs>\n        <path id=\"ArialMT-30\" d=\"M 266 2259 \nQ 266 3072 433 3567 \nQ 600 4063 929 4331 \nQ 1259 4600 1759 4600 \nQ 2128 4600 2406 4451 \nQ 2684 4303 2865 4023 \nQ 3047 3744 3150 3342 \nQ 3253 2941 3253 2259 \nQ 3253 1453 3087 958 \nQ 2922 463 2592 192 \nQ 2263 -78 1759 -78 \nQ 1097 -78 719 397 \nQ 266 969 266 2259 \nz\nM 844 2259 \nQ 844 1131 1108 757 \nQ 1372 384 1759 384 \nQ 2147 384 2411 759 \nQ 2675 1134 2675 2259 \nQ 2675 3391 2411 3762 \nQ 2147 4134 1753 4134 \nQ 1366 4134 1134 3806 \nQ 844 3388 844 2259 \nz\n\" transform=\"scale(0.015625)\"/>\n       </defs>\n       <use xlink:href=\"#ArialMT-30\"/>\n      </g>\n     </g>\n    </g>\n    <g id=\"xtick_2\">\n     <g id=\"line2d_2\">\n      <path d=\"M 96.194688 471.035625 \nL 96.194688 27.515625 \n\" clip-path=\"url(#p0623f9520b)\" style=\"fill: none; stroke: #cccccc; stroke-width: 0.8; stroke-linecap: round\"/>\n     </g>\n     <g id=\"text_2\">\n      <!-- 2 -->\n      <g style=\"fill: #262626\" transform=\"translate(93.414219 485.193437) scale(0.1 -0.1)\">\n       <defs>\n        <path id=\"ArialMT-32\" d=\"M 3222 541 \nL 3222 0 \nL 194 0 \nQ 188 203 259 391 \nQ 375 700 629 1000 \nQ 884 1300 1366 1694 \nQ 2113 2306 2375 2664 \nQ 2638 3022 2638 3341 \nQ 2638 3675 2398 3904 \nQ 2159 4134 1775 4134 \nQ 1369 4134 1125 3890 \nQ 881 3647 878 3216 \nL 300 3275 \nQ 359 3922 746 4261 \nQ 1134 4600 1788 4600 \nQ 2447 4600 2831 4234 \nQ 3216 3869 3216 3328 \nQ 3216 3053 3103 2787 \nQ 2991 2522 2730 2228 \nQ 2469 1934 1863 1422 \nQ 1356 997 1212 845 \nQ 1069 694 975 541 \nL 3222 541 \nz\n\" transform=\"scale(0.015625)\"/>\n       </defs>\n       <use xlink:href=\"#ArialMT-32\"/>\n      </g>\n     </g>\n    </g>\n    <g id=\"xtick_3\">\n     <g id=\"line2d_3\">\n      <path d=\"M 140.834688 471.035625 \nL 140.834688 27.515625 \n\" clip-path=\"url(#p0623f9520b)\" style=\"fill: none; stroke: #cccccc; stroke-width: 0.8; stroke-linecap: round\"/>\n     </g>\n     <g id=\"text_3\">\n      <!-- 4 -->\n      <g style=\"fill: #262626\" transform=\"translate(138.054219 485.193437) scale(0.1 -0.1)\">\n       <defs>\n        <path id=\"ArialMT-34\" d=\"M 2069 0 \nL 2069 1097 \nL 81 1097 \nL 81 1613 \nL 2172 4581 \nL 2631 4581 \nL 2631 1613 \nL 3250 1613 \nL 3250 1097 \nL 2631 1097 \nL 2631 0 \nL 2069 0 \nz\nM 2069 1613 \nL 2069 3678 \nL 634 1613 \nL 2069 1613 \nz\n\" transform=\"scale(0.015625)\"/>\n       </defs>\n       <use xlink:href=\"#ArialMT-34\"/>\n      </g>\n     </g>\n    </g>\n    <g id=\"xtick_4\">\n     <g id=\"line2d_4\">\n      <path d=\"M 185.474688 471.035625 \nL 185.474688 27.515625 \n\" clip-path=\"url(#p0623f9520b)\" style=\"fill: none; stroke: #cccccc; stroke-width: 0.8; stroke-linecap: round\"/>\n     </g>\n     <g id=\"text_4\">\n      <!-- 6 -->\n      <g style=\"fill: #262626\" transform=\"translate(182.694219 485.193437) scale(0.1 -0.1)\">\n       <defs>\n        <path id=\"ArialMT-36\" d=\"M 3184 3459 \nL 2625 3416 \nQ 2550 3747 2413 3897 \nQ 2184 4138 1850 4138 \nQ 1581 4138 1378 3988 \nQ 1113 3794 959 3422 \nQ 806 3050 800 2363 \nQ 1003 2672 1297 2822 \nQ 1591 2972 1913 2972 \nQ 2475 2972 2870 2558 \nQ 3266 2144 3266 1488 \nQ 3266 1056 3080 686 \nQ 2894 316 2569 119 \nQ 2244 -78 1831 -78 \nQ 1128 -78 684 439 \nQ 241 956 241 2144 \nQ 241 3472 731 4075 \nQ 1159 4600 1884 4600 \nQ 2425 4600 2770 4297 \nQ 3116 3994 3184 3459 \nz\nM 888 1484 \nQ 888 1194 1011 928 \nQ 1134 663 1356 523 \nQ 1578 384 1822 384 \nQ 2178 384 2434 671 \nQ 2691 959 2691 1453 \nQ 2691 1928 2437 2201 \nQ 2184 2475 1800 2475 \nQ 1419 2475 1153 2201 \nQ 888 1928 888 1484 \nz\n\" transform=\"scale(0.015625)\"/>\n       </defs>\n       <use xlink:href=\"#ArialMT-36\"/>\n      </g>\n     </g>\n    </g>\n    <g id=\"xtick_5\">\n     <g id=\"line2d_5\">\n      <path d=\"M 230.114688 471.035625 \nL 230.114688 27.515625 \n\" clip-path=\"url(#p0623f9520b)\" style=\"fill: none; stroke: #cccccc; stroke-width: 0.8; stroke-linecap: round\"/>\n     </g>\n     <g id=\"text_5\">\n      <!-- 8 -->\n      <g style=\"fill: #262626\" transform=\"translate(227.334219 485.193437) scale(0.1 -0.1)\">\n       <defs>\n        <path id=\"ArialMT-38\" d=\"M 1131 2484 \nQ 781 2613 612 2850 \nQ 444 3088 444 3419 \nQ 444 3919 803 4259 \nQ 1163 4600 1759 4600 \nQ 2359 4600 2725 4251 \nQ 3091 3903 3091 3403 \nQ 3091 3084 2923 2848 \nQ 2756 2613 2416 2484 \nQ 2838 2347 3058 2040 \nQ 3278 1734 3278 1309 \nQ 3278 722 2862 322 \nQ 2447 -78 1769 -78 \nQ 1091 -78 675 323 \nQ 259 725 259 1325 \nQ 259 1772 486 2073 \nQ 713 2375 1131 2484 \nz\nM 1019 3438 \nQ 1019 3113 1228 2906 \nQ 1438 2700 1772 2700 \nQ 2097 2700 2305 2904 \nQ 2513 3109 2513 3406 \nQ 2513 3716 2298 3927 \nQ 2084 4138 1766 4138 \nQ 1444 4138 1231 3931 \nQ 1019 3725 1019 3438 \nz\nM 838 1322 \nQ 838 1081 952 856 \nQ 1066 631 1291 507 \nQ 1516 384 1775 384 \nQ 2178 384 2440 643 \nQ 2703 903 2703 1303 \nQ 2703 1709 2433 1975 \nQ 2163 2241 1756 2241 \nQ 1359 2241 1098 1978 \nQ 838 1716 838 1322 \nz\n\" transform=\"scale(0.015625)\"/>\n       </defs>\n       <use xlink:href=\"#ArialMT-38\"/>\n      </g>\n     </g>\n    </g>\n    <g id=\"xtick_6\">\n     <g id=\"line2d_6\">\n      <path d=\"M 274.754687 471.035625 \nL 274.754687 27.515625 \n\" clip-path=\"url(#p0623f9520b)\" style=\"fill: none; stroke: #cccccc; stroke-width: 0.8; stroke-linecap: round\"/>\n     </g>\n     <g id=\"text_6\">\n      <!-- 10 -->\n      <g style=\"fill: #262626\" transform=\"translate(269.19375 485.193437) scale(0.1 -0.1)\">\n       <defs>\n        <path id=\"ArialMT-31\" d=\"M 2384 0 \nL 1822 0 \nL 1822 3584 \nQ 1619 3391 1289 3197 \nQ 959 3003 697 2906 \nL 697 3450 \nQ 1169 3672 1522 3987 \nQ 1875 4303 2022 4600 \nL 2384 4600 \nL 2384 0 \nz\n\" transform=\"scale(0.015625)\"/>\n       </defs>\n       <use xlink:href=\"#ArialMT-31\"/>\n       <use xlink:href=\"#ArialMT-30\" x=\"55.615234\"/>\n      </g>\n     </g>\n    </g>\n    <g id=\"xtick_7\">\n     <g id=\"line2d_7\">\n      <path d=\"M 319.394688 471.035625 \nL 319.394688 27.515625 \n\" clip-path=\"url(#p0623f9520b)\" style=\"fill: none; stroke: #cccccc; stroke-width: 0.8; stroke-linecap: round\"/>\n     </g>\n     <g id=\"text_7\">\n      <!-- 12 -->\n      <g style=\"fill: #262626\" transform=\"translate(313.83375 485.193437) scale(0.1 -0.1)\">\n       <use xlink:href=\"#ArialMT-31\"/>\n       <use xlink:href=\"#ArialMT-32\" x=\"55.615234\"/>\n      </g>\n     </g>\n    </g>\n    <g id=\"xtick_8\">\n     <g id=\"line2d_8\">\n      <path d=\"M 364.034688 471.035625 \nL 364.034688 27.515625 \n\" clip-path=\"url(#p0623f9520b)\" style=\"fill: none; stroke: #cccccc; stroke-width: 0.8; stroke-linecap: round\"/>\n     </g>\n     <g id=\"text_8\">\n      <!-- 14 -->\n      <g style=\"fill: #262626\" transform=\"translate(358.47375 485.193437) scale(0.1 -0.1)\">\n       <use xlink:href=\"#ArialMT-31\"/>\n       <use xlink:href=\"#ArialMT-34\" x=\"55.615234\"/>\n      </g>\n     </g>\n    </g>\n    <g id=\"xtick_9\">\n     <g id=\"line2d_9\">\n      <path d=\"M 408.674688 471.035625 \nL 408.674688 27.515625 \n\" clip-path=\"url(#p0623f9520b)\" style=\"fill: none; stroke: #cccccc; stroke-width: 0.8; stroke-linecap: round\"/>\n     </g>\n     <g id=\"text_9\">\n      <!-- 16 -->\n      <g style=\"fill: #262626\" transform=\"translate(403.11375 485.193437) scale(0.1 -0.1)\">\n       <use xlink:href=\"#ArialMT-31\"/>\n       <use xlink:href=\"#ArialMT-36\" x=\"55.615234\"/>\n      </g>\n     </g>\n    </g>\n    <g id=\"xtick_10\">\n     <g id=\"line2d_10\">\n      <path d=\"M 453.314687 471.035625 \nL 453.314687 27.515625 \n\" clip-path=\"url(#p0623f9520b)\" style=\"fill: none; stroke: #cccccc; stroke-width: 0.8; stroke-linecap: round\"/>\n     </g>\n     <g id=\"text_10\">\n      <!-- 18 -->\n      <g style=\"fill: #262626\" transform=\"translate(447.75375 485.193437) scale(0.1 -0.1)\">\n       <use xlink:href=\"#ArialMT-31\"/>\n       <use xlink:href=\"#ArialMT-38\" x=\"55.615234\"/>\n      </g>\n     </g>\n    </g>\n    <g id=\"xtick_11\">\n     <g id=\"line2d_11\">\n      <path d=\"M 497.954687 471.035625 \nL 497.954687 27.515625 \n\" clip-path=\"url(#p0623f9520b)\" style=\"fill: none; stroke: #cccccc; stroke-width: 0.8; stroke-linecap: round\"/>\n     </g>\n     <g id=\"text_11\">\n      <!-- 20 -->\n      <g style=\"fill: #262626\" transform=\"translate(492.39375 485.193437) scale(0.1 -0.1)\">\n       <use xlink:href=\"#ArialMT-32\"/>\n       <use xlink:href=\"#ArialMT-30\" x=\"55.615234\"/>\n      </g>\n     </g>\n    </g>\n    <g id=\"xtick_12\">\n     <g id=\"line2d_12\">\n      <path d=\"M 542.594687 471.035625 \nL 542.594687 27.515625 \n\" clip-path=\"url(#p0623f9520b)\" style=\"fill: none; stroke: #cccccc; stroke-width: 0.8; stroke-linecap: round\"/>\n     </g>\n     <g id=\"text_12\">\n      <!-- 22 -->\n      <g style=\"fill: #262626\" transform=\"translate(537.03375 485.193437) scale(0.1 -0.1)\">\n       <use xlink:href=\"#ArialMT-32\"/>\n       <use xlink:href=\"#ArialMT-32\" x=\"55.615234\"/>\n      </g>\n     </g>\n    </g>\n    <g id=\"xtick_13\">\n     <g id=\"line2d_13\">\n      <path d=\"M 587.234688 471.035625 \nL 587.234688 27.515625 \n\" clip-path=\"url(#p0623f9520b)\" style=\"fill: none; stroke: #cccccc; stroke-width: 0.8; stroke-linecap: round\"/>\n     </g>\n     <g id=\"text_13\">\n      <!-- 24 -->\n      <g style=\"fill: #262626\" transform=\"translate(581.67375 485.193437) scale(0.1 -0.1)\">\n       <use xlink:href=\"#ArialMT-32\"/>\n       <use xlink:href=\"#ArialMT-34\" x=\"55.615234\"/>\n      </g>\n     </g>\n    </g>\n    <g id=\"xtick_14\">\n     <g id=\"line2d_14\">\n      <path d=\"M 631.874688 471.035625 \nL 631.874688 27.515625 \n\" clip-path=\"url(#p0623f9520b)\" style=\"fill: none; stroke: #cccccc; stroke-width: 0.8; stroke-linecap: round\"/>\n     </g>\n     <g id=\"text_14\">\n      <!-- 26 -->\n      <g style=\"fill: #262626\" transform=\"translate(626.31375 485.193437) scale(0.1 -0.1)\">\n       <use xlink:href=\"#ArialMT-32\"/>\n       <use xlink:href=\"#ArialMT-36\" x=\"55.615234\"/>\n      </g>\n     </g>\n    </g>\n    <g id=\"xtick_15\">\n     <g id=\"line2d_15\">\n      <path d=\"M 676.514688 471.035625 \nL 676.514688 27.515625 \n\" clip-path=\"url(#p0623f9520b)\" style=\"fill: none; stroke: #cccccc; stroke-width: 0.8; stroke-linecap: round\"/>\n     </g>\n     <g id=\"text_15\">\n      <!-- 28 -->\n      <g style=\"fill: #262626\" transform=\"translate(670.95375 485.193437) scale(0.1 -0.1)\">\n       <use xlink:href=\"#ArialMT-32\"/>\n       <use xlink:href=\"#ArialMT-38\" x=\"55.615234\"/>\n      </g>\n     </g>\n    </g>\n    <g id=\"text_16\">\n     <!-- Epochs -->\n     <g style=\"fill: #262626\" transform=\"translate(361.339844 501.917656) scale(0.15 -0.15)\">\n      <defs>\n       <path id=\"ArialMT-45\" d=\"M 506 0 \nL 506 4581 \nL 3819 4581 \nL 3819 4041 \nL 1113 4041 \nL 1113 2638 \nL 3647 2638 \nL 3647 2100 \nL 1113 2100 \nL 1113 541 \nL 3925 541 \nL 3925 0 \nL 506 0 \nz\n\" transform=\"scale(0.015625)\"/>\n       <path id=\"ArialMT-70\" d=\"M 422 -1272 \nL 422 3319 \nL 934 3319 \nL 934 2888 \nQ 1116 3141 1344 3267 \nQ 1572 3394 1897 3394 \nQ 2322 3394 2647 3175 \nQ 2972 2956 3137 2557 \nQ 3303 2159 3303 1684 \nQ 3303 1175 3120 767 \nQ 2938 359 2589 142 \nQ 2241 -75 1856 -75 \nQ 1575 -75 1351 44 \nQ 1128 163 984 344 \nL 984 -1272 \nL 422 -1272 \nz\nM 931 1641 \nQ 931 1000 1190 694 \nQ 1450 388 1819 388 \nQ 2194 388 2461 705 \nQ 2728 1022 2728 1688 \nQ 2728 2322 2467 2637 \nQ 2206 2953 1844 2953 \nQ 1484 2953 1207 2617 \nQ 931 2281 931 1641 \nz\n\" transform=\"scale(0.015625)\"/>\n       <path id=\"ArialMT-6f\" d=\"M 213 1659 \nQ 213 2581 725 3025 \nQ 1153 3394 1769 3394 \nQ 2453 3394 2887 2945 \nQ 3322 2497 3322 1706 \nQ 3322 1066 3130 698 \nQ 2938 331 2570 128 \nQ 2203 -75 1769 -75 \nQ 1072 -75 642 372 \nQ 213 819 213 1659 \nz\nM 791 1659 \nQ 791 1022 1069 705 \nQ 1347 388 1769 388 \nQ 2188 388 2466 706 \nQ 2744 1025 2744 1678 \nQ 2744 2294 2464 2611 \nQ 2184 2928 1769 2928 \nQ 1347 2928 1069 2612 \nQ 791 2297 791 1659 \nz\n\" transform=\"scale(0.015625)\"/>\n       <path id=\"ArialMT-63\" d=\"M 2588 1216 \nL 3141 1144 \nQ 3050 572 2676 248 \nQ 2303 -75 1759 -75 \nQ 1078 -75 664 370 \nQ 250 816 250 1647 \nQ 250 2184 428 2587 \nQ 606 2991 970 3192 \nQ 1334 3394 1763 3394 \nQ 2303 3394 2647 3120 \nQ 2991 2847 3088 2344 \nL 2541 2259 \nQ 2463 2594 2264 2762 \nQ 2066 2931 1784 2931 \nQ 1359 2931 1093 2626 \nQ 828 2322 828 1663 \nQ 828 994 1084 691 \nQ 1341 388 1753 388 \nQ 2084 388 2306 591 \nQ 2528 794 2588 1216 \nz\n\" transform=\"scale(0.015625)\"/>\n       <path id=\"ArialMT-68\" d=\"M 422 0 \nL 422 4581 \nL 984 4581 \nL 984 2938 \nQ 1378 3394 1978 3394 \nQ 2347 3394 2619 3248 \nQ 2891 3103 3008 2847 \nQ 3125 2591 3125 2103 \nL 3125 0 \nL 2563 0 \nL 2563 2103 \nQ 2563 2525 2380 2717 \nQ 2197 2909 1863 2909 \nQ 1613 2909 1392 2779 \nQ 1172 2650 1078 2428 \nQ 984 2206 984 1816 \nL 984 0 \nL 422 0 \nz\n\" transform=\"scale(0.015625)\"/>\n       <path id=\"ArialMT-73\" d=\"M 197 991 \nL 753 1078 \nQ 800 744 1014 566 \nQ 1228 388 1613 388 \nQ 2000 388 2187 545 \nQ 2375 703 2375 916 \nQ 2375 1106 2209 1216 \nQ 2094 1291 1634 1406 \nQ 1016 1563 777 1677 \nQ 538 1791 414 1992 \nQ 291 2194 291 2438 \nQ 291 2659 392 2848 \nQ 494 3038 669 3163 \nQ 800 3259 1026 3326 \nQ 1253 3394 1513 3394 \nQ 1903 3394 2198 3281 \nQ 2494 3169 2634 2976 \nQ 2775 2784 2828 2463 \nL 2278 2388 \nQ 2241 2644 2061 2787 \nQ 1881 2931 1553 2931 \nQ 1166 2931 1000 2803 \nQ 834 2675 834 2503 \nQ 834 2394 903 2306 \nQ 972 2216 1119 2156 \nQ 1203 2125 1616 2013 \nQ 2213 1853 2448 1751 \nQ 2684 1650 2818 1456 \nQ 2953 1263 2953 975 \nQ 2953 694 2789 445 \nQ 2625 197 2315 61 \nQ 2006 -75 1616 -75 \nQ 969 -75 630 194 \nQ 291 463 197 991 \nz\n\" transform=\"scale(0.015625)\"/>\n      </defs>\n      <use xlink:href=\"#ArialMT-45\"/>\n      <use xlink:href=\"#ArialMT-70\" x=\"66.699219\"/>\n      <use xlink:href=\"#ArialMT-6f\" x=\"122.314453\"/>\n      <use xlink:href=\"#ArialMT-63\" x=\"177.929688\"/>\n      <use xlink:href=\"#ArialMT-68\" x=\"227.929688\"/>\n      <use xlink:href=\"#ArialMT-73\" x=\"283.544922\"/>\n     </g>\n    </g>\n   </g>\n   <g id=\"matplotlib.axis_2\">\n    <g id=\"ytick_1\">\n     <g id=\"line2d_16\">\n      <path d=\"M 51.554688 466.205405 \nL 721.154688 466.205405 \n\" clip-path=\"url(#p0623f9520b)\" style=\"fill: none; stroke: #cccccc; stroke-width: 0.8; stroke-linecap: round\"/>\n     </g>\n     <g id=\"text_17\">\n      <!-- 0.50 -->\n      <g style=\"fill: #262626\" transform=\"translate(25.09375 469.784311) scale(0.1 -0.1)\">\n       <defs>\n        <path id=\"ArialMT-2e\" d=\"M 581 0 \nL 581 641 \nL 1222 641 \nL 1222 0 \nL 581 0 \nz\n\" transform=\"scale(0.015625)\"/>\n        <path id=\"ArialMT-35\" d=\"M 266 1200 \nL 856 1250 \nQ 922 819 1161 601 \nQ 1400 384 1738 384 \nQ 2144 384 2425 690 \nQ 2706 997 2706 1503 \nQ 2706 1984 2436 2262 \nQ 2166 2541 1728 2541 \nQ 1456 2541 1237 2417 \nQ 1019 2294 894 2097 \nL 366 2166 \nL 809 4519 \nL 3088 4519 \nL 3088 3981 \nL 1259 3981 \nL 1013 2750 \nQ 1425 3038 1878 3038 \nQ 2478 3038 2890 2622 \nQ 3303 2206 3303 1553 \nQ 3303 931 2941 478 \nQ 2500 -78 1738 -78 \nQ 1113 -78 717 272 \nQ 322 622 266 1200 \nz\n\" transform=\"scale(0.015625)\"/>\n       </defs>\n       <use xlink:href=\"#ArialMT-30\"/>\n       <use xlink:href=\"#ArialMT-2e\" x=\"55.615234\"/>\n       <use xlink:href=\"#ArialMT-35\" x=\"83.398438\"/>\n       <use xlink:href=\"#ArialMT-30\" x=\"139.013672\"/>\n      </g>\n     </g>\n    </g>\n    <g id=\"ytick_2\">\n     <g id=\"line2d_17\">\n      <path d=\"M 51.554688 368.221899 \nL 721.154688 368.221899 \n\" clip-path=\"url(#p0623f9520b)\" style=\"fill: none; stroke: #cccccc; stroke-width: 0.8; stroke-linecap: round\"/>\n     </g>\n     <g id=\"text_18\">\n      <!-- 0.55 -->\n      <g style=\"fill: #262626\" transform=\"translate(25.09375 371.800805) scale(0.1 -0.1)\">\n       <use xlink:href=\"#ArialMT-30\"/>\n       <use xlink:href=\"#ArialMT-2e\" x=\"55.615234\"/>\n       <use xlink:href=\"#ArialMT-35\" x=\"83.398438\"/>\n       <use xlink:href=\"#ArialMT-35\" x=\"139.013672\"/>\n      </g>\n     </g>\n    </g>\n    <g id=\"ytick_3\">\n     <g id=\"line2d_18\">\n      <path d=\"M 51.554688 270.238394 \nL 721.154688 270.238394 \n\" clip-path=\"url(#p0623f9520b)\" style=\"fill: none; stroke: #cccccc; stroke-width: 0.8; stroke-linecap: round\"/>\n     </g>\n     <g id=\"text_19\">\n      <!-- 0.60 -->\n      <g style=\"fill: #262626\" transform=\"translate(25.09375 273.8173) scale(0.1 -0.1)\">\n       <use xlink:href=\"#ArialMT-30\"/>\n       <use xlink:href=\"#ArialMT-2e\" x=\"55.615234\"/>\n       <use xlink:href=\"#ArialMT-36\" x=\"83.398438\"/>\n       <use xlink:href=\"#ArialMT-30\" x=\"139.013672\"/>\n      </g>\n     </g>\n    </g>\n    <g id=\"ytick_4\">\n     <g id=\"line2d_19\">\n      <path d=\"M 51.554688 172.254888 \nL 721.154688 172.254888 \n\" clip-path=\"url(#p0623f9520b)\" style=\"fill: none; stroke: #cccccc; stroke-width: 0.8; stroke-linecap: round\"/>\n     </g>\n     <g id=\"text_20\">\n      <!-- 0.65 -->\n      <g style=\"fill: #262626\" transform=\"translate(25.09375 175.833795) scale(0.1 -0.1)\">\n       <use xlink:href=\"#ArialMT-30\"/>\n       <use xlink:href=\"#ArialMT-2e\" x=\"55.615234\"/>\n       <use xlink:href=\"#ArialMT-36\" x=\"83.398438\"/>\n       <use xlink:href=\"#ArialMT-35\" x=\"139.013672\"/>\n      </g>\n     </g>\n    </g>\n    <g id=\"ytick_5\">\n     <g id=\"line2d_20\">\n      <path d=\"M 51.554688 74.271383 \nL 721.154688 74.271383 \n\" clip-path=\"url(#p0623f9520b)\" style=\"fill: none; stroke: #cccccc; stroke-width: 0.8; stroke-linecap: round\"/>\n     </g>\n     <g id=\"text_21\">\n      <!-- 0.70 -->\n      <g style=\"fill: #262626\" transform=\"translate(25.09375 77.850289) scale(0.1 -0.1)\">\n       <defs>\n        <path id=\"ArialMT-37\" d=\"M 303 3981 \nL 303 4522 \nL 3269 4522 \nL 3269 4084 \nQ 2831 3619 2401 2847 \nQ 1972 2075 1738 1259 \nQ 1569 684 1522 0 \nL 944 0 \nQ 953 541 1156 1306 \nQ 1359 2072 1739 2783 \nQ 2119 3494 2547 3981 \nL 303 3981 \nz\n\" transform=\"scale(0.015625)\"/>\n       </defs>\n       <use xlink:href=\"#ArialMT-30\"/>\n       <use xlink:href=\"#ArialMT-2e\" x=\"55.615234\"/>\n       <use xlink:href=\"#ArialMT-37\" x=\"83.398438\"/>\n       <use xlink:href=\"#ArialMT-30\" x=\"139.013672\"/>\n      </g>\n     </g>\n    </g>\n    <g id=\"text_22\">\n     <!-- Accuracy -->\n     <g style=\"fill: #262626\" transform=\"translate(17.936719 280.117031) rotate(-90) scale(0.15 -0.15)\">\n      <defs>\n       <path id=\"ArialMT-41\" d=\"M -9 0 \nL 1750 4581 \nL 2403 4581 \nL 4278 0 \nL 3588 0 \nL 3053 1388 \nL 1138 1388 \nL 634 0 \nL -9 0 \nz\nM 1313 1881 \nL 2866 1881 \nL 2388 3150 \nQ 2169 3728 2063 4100 \nQ 1975 3659 1816 3225 \nL 1313 1881 \nz\n\" transform=\"scale(0.015625)\"/>\n       <path id=\"ArialMT-75\" d=\"M 2597 0 \nL 2597 488 \nQ 2209 -75 1544 -75 \nQ 1250 -75 995 37 \nQ 741 150 617 320 \nQ 494 491 444 738 \nQ 409 903 409 1263 \nL 409 3319 \nL 972 3319 \nL 972 1478 \nQ 972 1038 1006 884 \nQ 1059 663 1231 536 \nQ 1403 409 1656 409 \nQ 1909 409 2131 539 \nQ 2353 669 2445 892 \nQ 2538 1116 2538 1541 \nL 2538 3319 \nL 3100 3319 \nL 3100 0 \nL 2597 0 \nz\n\" transform=\"scale(0.015625)\"/>\n       <path id=\"ArialMT-72\" d=\"M 416 0 \nL 416 3319 \nL 922 3319 \nL 922 2816 \nQ 1116 3169 1280 3281 \nQ 1444 3394 1641 3394 \nQ 1925 3394 2219 3213 \nL 2025 2691 \nQ 1819 2813 1613 2813 \nQ 1428 2813 1281 2702 \nQ 1134 2591 1072 2394 \nQ 978 2094 978 1738 \nL 978 0 \nL 416 0 \nz\n\" transform=\"scale(0.015625)\"/>\n       <path id=\"ArialMT-61\" d=\"M 2588 409 \nQ 2275 144 1986 34 \nQ 1697 -75 1366 -75 \nQ 819 -75 525 192 \nQ 231 459 231 875 \nQ 231 1119 342 1320 \nQ 453 1522 633 1644 \nQ 813 1766 1038 1828 \nQ 1203 1872 1538 1913 \nQ 2219 1994 2541 2106 \nQ 2544 2222 2544 2253 \nQ 2544 2597 2384 2738 \nQ 2169 2928 1744 2928 \nQ 1347 2928 1158 2789 \nQ 969 2650 878 2297 \nL 328 2372 \nQ 403 2725 575 2942 \nQ 747 3159 1072 3276 \nQ 1397 3394 1825 3394 \nQ 2250 3394 2515 3294 \nQ 2781 3194 2906 3042 \nQ 3031 2891 3081 2659 \nQ 3109 2516 3109 2141 \nL 3109 1391 \nQ 3109 606 3145 398 \nQ 3181 191 3288 0 \nL 2700 0 \nQ 2613 175 2588 409 \nz\nM 2541 1666 \nQ 2234 1541 1622 1453 \nQ 1275 1403 1131 1340 \nQ 988 1278 909 1158 \nQ 831 1038 831 891 \nQ 831 666 1001 516 \nQ 1172 366 1500 366 \nQ 1825 366 2078 508 \nQ 2331 650 2450 897 \nQ 2541 1088 2541 1459 \nL 2541 1666 \nz\n\" transform=\"scale(0.015625)\"/>\n       <path id=\"ArialMT-79\" d=\"M 397 -1278 \nL 334 -750 \nQ 519 -800 656 -800 \nQ 844 -800 956 -737 \nQ 1069 -675 1141 -563 \nQ 1194 -478 1313 -144 \nQ 1328 -97 1363 -6 \nL 103 3319 \nL 709 3319 \nL 1400 1397 \nQ 1534 1031 1641 628 \nQ 1738 1016 1872 1384 \nL 2581 3319 \nL 3144 3319 \nL 1881 -56 \nQ 1678 -603 1566 -809 \nQ 1416 -1088 1222 -1217 \nQ 1028 -1347 759 -1347 \nQ 597 -1347 397 -1278 \nz\n\" transform=\"scale(0.015625)\"/>\n      </defs>\n      <use xlink:href=\"#ArialMT-41\"/>\n      <use xlink:href=\"#ArialMT-63\" x=\"66.699219\"/>\n      <use xlink:href=\"#ArialMT-63\" x=\"116.699219\"/>\n      <use xlink:href=\"#ArialMT-75\" x=\"166.699219\"/>\n      <use xlink:href=\"#ArialMT-72\" x=\"222.314453\"/>\n      <use xlink:href=\"#ArialMT-61\" x=\"255.615234\"/>\n      <use xlink:href=\"#ArialMT-63\" x=\"311.230469\"/>\n      <use xlink:href=\"#ArialMT-79\" x=\"361.230469\"/>\n     </g>\n    </g>\n   </g>\n   <g id=\"line2d_21\">\n    <path d=\"M 51.554688 445.523833 \nL 73.874687 450.875625 \nL 96.194688 419.944026 \nL 118.514688 342.206618 \nL 140.834688 274.90087 \nL 163.154687 242.154932 \nL 185.474688 234.172682 \nL 207.794688 227.641622 \nL 230.114688 204.148077 \nL 252.434687 193.625892 \nL 274.754687 200.882547 \nL 297.074687 195.349356 \nL 319.394688 189.997448 \nL 341.714688 189.816049 \nL 364.034688 177.842557 \nL 386.354688 170.041589 \nL 408.674688 171.402255 \nL 430.994687 170.585902 \nL 453.314687 165.233994 \nL 475.634687 153.623299 \nL 497.954687 163.964085 \nL 520.274688 157.433142 \nL 542.594687 160.154359 \nL 564.914688 150.08573 \nL 587.234688 147.001599 \nL 609.554688 160.426515 \nL 631.874688 134.937349 \nL 654.194687 144.915337 \nL 676.514688 145.73169 \nL 698.834687 131.671819 \n\" clip-path=\"url(#p0623f9520b)\" style=\"fill: none; stroke: #000080; stroke-width: 2; stroke-linecap: round\"/>\n   </g>\n   <g id=\"line2d_22\">\n    <path d=\"M 51.554688 387.288846 \nL 73.874687 307.82809 \nL 96.194688 269.367562 \nL 118.514688 273.358804 \nL 140.834688 202.606011 \nL 163.154687 177.5704 \nL 185.474688 145.640932 \nL 207.794688 146.003847 \nL 230.114688 159.065849 \nL 252.434687 111.897359 \nL 274.754687 131.49042 \nL 297.074687 111.534561 \nL 319.394688 114.799974 \nL 341.714688 119.516811 \nL 364.034688 83.596218 \nL 386.354688 55.657992 \nL 408.674688 60.737627 \nL 430.994687 81.419198 \nL 453.314687 59.649117 \nL 475.634687 82.144911 \nL 497.954687 79.242179 \nL 520.274688 47.675625 \nL 542.594687 51.303952 \nL 564.914688 69.082792 \nL 587.234688 52.392462 \nL 609.554688 53.480972 \nL 631.874688 51.303952 \nL 654.194687 48.40122 \nL 676.514688 56.383587 \nL 698.834687 67.994399 \n\" clip-path=\"url(#p0623f9520b)\" style=\"fill: none; stroke: #00bfff; stroke-width: 2; stroke-linecap: round\"/>\n   </g>\n   <g id=\"text_23\">\n    <!-- Training and validation accuracy -->\n    <g style=\"fill: #262626\" transform=\"translate(243.326562 21.515625) scale(0.2 -0.2)\">\n     <defs>\n      <path id=\"ArialMT-54\" d=\"M 1659 0 \nL 1659 4041 \nL 150 4041 \nL 150 4581 \nL 3781 4581 \nL 3781 4041 \nL 2266 4041 \nL 2266 0 \nL 1659 0 \nz\n\" transform=\"scale(0.015625)\"/>\n      <path id=\"ArialMT-69\" d=\"M 425 3934 \nL 425 4581 \nL 988 4581 \nL 988 3934 \nL 425 3934 \nz\nM 425 0 \nL 425 3319 \nL 988 3319 \nL 988 0 \nL 425 0 \nz\n\" transform=\"scale(0.015625)\"/>\n      <path id=\"ArialMT-6e\" d=\"M 422 0 \nL 422 3319 \nL 928 3319 \nL 928 2847 \nQ 1294 3394 1984 3394 \nQ 2284 3394 2536 3286 \nQ 2788 3178 2913 3003 \nQ 3038 2828 3088 2588 \nQ 3119 2431 3119 2041 \nL 3119 0 \nL 2556 0 \nL 2556 2019 \nQ 2556 2363 2490 2533 \nQ 2425 2703 2258 2804 \nQ 2091 2906 1866 2906 \nQ 1506 2906 1245 2678 \nQ 984 2450 984 1813 \nL 984 0 \nL 422 0 \nz\n\" transform=\"scale(0.015625)\"/>\n      <path id=\"ArialMT-67\" d=\"M 319 -275 \nL 866 -356 \nQ 900 -609 1056 -725 \nQ 1266 -881 1628 -881 \nQ 2019 -881 2231 -725 \nQ 2444 -569 2519 -288 \nQ 2563 -116 2559 434 \nQ 2191 0 1641 0 \nQ 956 0 581 494 \nQ 206 988 206 1678 \nQ 206 2153 378 2554 \nQ 550 2956 876 3175 \nQ 1203 3394 1644 3394 \nQ 2231 3394 2613 2919 \nL 2613 3319 \nL 3131 3319 \nL 3131 450 \nQ 3131 -325 2973 -648 \nQ 2816 -972 2473 -1159 \nQ 2131 -1347 1631 -1347 \nQ 1038 -1347 672 -1080 \nQ 306 -813 319 -275 \nz\nM 784 1719 \nQ 784 1066 1043 766 \nQ 1303 466 1694 466 \nQ 2081 466 2343 764 \nQ 2606 1063 2606 1700 \nQ 2606 2309 2336 2618 \nQ 2066 2928 1684 2928 \nQ 1309 2928 1046 2623 \nQ 784 2319 784 1719 \nz\n\" transform=\"scale(0.015625)\"/>\n      <path id=\"ArialMT-20\" transform=\"scale(0.015625)\"/>\n      <path id=\"ArialMT-64\" d=\"M 2575 0 \nL 2575 419 \nQ 2259 -75 1647 -75 \nQ 1250 -75 917 144 \nQ 584 363 401 755 \nQ 219 1147 219 1656 \nQ 219 2153 384 2558 \nQ 550 2963 881 3178 \nQ 1213 3394 1622 3394 \nQ 1922 3394 2156 3267 \nQ 2391 3141 2538 2938 \nL 2538 4581 \nL 3097 4581 \nL 3097 0 \nL 2575 0 \nz\nM 797 1656 \nQ 797 1019 1065 703 \nQ 1334 388 1700 388 \nQ 2069 388 2326 689 \nQ 2584 991 2584 1609 \nQ 2584 2291 2321 2609 \nQ 2059 2928 1675 2928 \nQ 1300 2928 1048 2622 \nQ 797 2316 797 1656 \nz\n\" transform=\"scale(0.015625)\"/>\n      <path id=\"ArialMT-76\" d=\"M 1344 0 \nL 81 3319 \nL 675 3319 \nL 1388 1331 \nQ 1503 1009 1600 663 \nQ 1675 925 1809 1294 \nL 2547 3319 \nL 3125 3319 \nL 1869 0 \nL 1344 0 \nz\n\" transform=\"scale(0.015625)\"/>\n      <path id=\"ArialMT-6c\" d=\"M 409 0 \nL 409 4581 \nL 972 4581 \nL 972 0 \nL 409 0 \nz\n\" transform=\"scale(0.015625)\"/>\n      <path id=\"ArialMT-74\" d=\"M 1650 503 \nL 1731 6 \nQ 1494 -44 1306 -44 \nQ 1000 -44 831 53 \nQ 663 150 594 308 \nQ 525 466 525 972 \nL 525 2881 \nL 113 2881 \nL 113 3319 \nL 525 3319 \nL 525 4141 \nL 1084 4478 \nL 1084 3319 \nL 1650 3319 \nL 1650 2881 \nL 1084 2881 \nL 1084 941 \nQ 1084 700 1114 631 \nQ 1144 563 1211 522 \nQ 1278 481 1403 481 \nQ 1497 481 1650 503 \nz\n\" transform=\"scale(0.015625)\"/>\n     </defs>\n     <use xlink:href=\"#ArialMT-54\"/>\n     <use xlink:href=\"#ArialMT-72\" x=\"57.333984\"/>\n     <use xlink:href=\"#ArialMT-61\" x=\"90.634766\"/>\n     <use xlink:href=\"#ArialMT-69\" x=\"146.25\"/>\n     <use xlink:href=\"#ArialMT-6e\" x=\"168.466797\"/>\n     <use xlink:href=\"#ArialMT-69\" x=\"224.082031\"/>\n     <use xlink:href=\"#ArialMT-6e\" x=\"246.298828\"/>\n     <use xlink:href=\"#ArialMT-67\" x=\"301.914062\"/>\n     <use xlink:href=\"#ArialMT-20\" x=\"357.529297\"/>\n     <use xlink:href=\"#ArialMT-61\" x=\"385.3125\"/>\n     <use xlink:href=\"#ArialMT-6e\" x=\"440.927734\"/>\n     <use xlink:href=\"#ArialMT-64\" x=\"496.542969\"/>\n     <use xlink:href=\"#ArialMT-20\" x=\"552.158203\"/>\n     <use xlink:href=\"#ArialMT-76\" x=\"579.941406\"/>\n     <use xlink:href=\"#ArialMT-61\" x=\"629.941406\"/>\n     <use xlink:href=\"#ArialMT-6c\" x=\"685.556641\"/>\n     <use xlink:href=\"#ArialMT-69\" x=\"707.773438\"/>\n     <use xlink:href=\"#ArialMT-64\" x=\"729.990234\"/>\n     <use xlink:href=\"#ArialMT-61\" x=\"785.605469\"/>\n     <use xlink:href=\"#ArialMT-74\" x=\"841.220703\"/>\n     <use xlink:href=\"#ArialMT-69\" x=\"869.003906\"/>\n     <use xlink:href=\"#ArialMT-6f\" x=\"891.220703\"/>\n     <use xlink:href=\"#ArialMT-6e\" x=\"946.835938\"/>\n     <use xlink:href=\"#ArialMT-20\" x=\"1002.451172\"/>\n     <use xlink:href=\"#ArialMT-61\" x=\"1030.234375\"/>\n     <use xlink:href=\"#ArialMT-63\" x=\"1085.849609\"/>\n     <use xlink:href=\"#ArialMT-63\" x=\"1135.849609\"/>\n     <use xlink:href=\"#ArialMT-75\" x=\"1185.849609\"/>\n     <use xlink:href=\"#ArialMT-72\" x=\"1241.464844\"/>\n     <use xlink:href=\"#ArialMT-61\" x=\"1274.765625\"/>\n     <use xlink:href=\"#ArialMT-63\" x=\"1330.380859\"/>\n     <use xlink:href=\"#ArialMT-79\" x=\"1380.380859\"/>\n    </g>\n   </g>\n   <g id=\"legend_1\">\n    <g id=\"line2d_23\">\n     <path d=\"M 759.834688 37.470781 \nL 772.834688 37.470781 \nL 785.834688 37.470781 \n\" style=\"fill: none; stroke: #000080; stroke-width: 2; stroke-linecap: round\"/>\n    </g>\n    <g id=\"text_24\">\n     <!-- Training accuracy -->\n     <g style=\"fill: #262626\" transform=\"translate(796.234688 42.020781) scale(0.13 -0.13)\">\n      <use xlink:href=\"#ArialMT-54\"/>\n      <use xlink:href=\"#ArialMT-72\" x=\"57.333984\"/>\n      <use xlink:href=\"#ArialMT-61\" x=\"90.634766\"/>\n      <use xlink:href=\"#ArialMT-69\" x=\"146.25\"/>\n      <use xlink:href=\"#ArialMT-6e\" x=\"168.466797\"/>\n      <use xlink:href=\"#ArialMT-69\" x=\"224.082031\"/>\n      <use xlink:href=\"#ArialMT-6e\" x=\"246.298828\"/>\n      <use xlink:href=\"#ArialMT-67\" x=\"301.914062\"/>\n      <use xlink:href=\"#ArialMT-20\" x=\"357.529297\"/>\n      <use xlink:href=\"#ArialMT-61\" x=\"385.3125\"/>\n      <use xlink:href=\"#ArialMT-63\" x=\"440.927734\"/>\n      <use xlink:href=\"#ArialMT-63\" x=\"490.927734\"/>\n      <use xlink:href=\"#ArialMT-75\" x=\"540.927734\"/>\n      <use xlink:href=\"#ArialMT-72\" x=\"596.542969\"/>\n      <use xlink:href=\"#ArialMT-61\" x=\"629.84375\"/>\n      <use xlink:href=\"#ArialMT-63\" x=\"685.458984\"/>\n      <use xlink:href=\"#ArialMT-79\" x=\"735.458984\"/>\n     </g>\n    </g>\n    <g id=\"line2d_24\">\n     <path d=\"M 759.834688 56.012031 \nL 772.834688 56.012031 \nL 785.834688 56.012031 \n\" style=\"fill: none; stroke: #00bfff; stroke-width: 2; stroke-linecap: round\"/>\n    </g>\n    <g id=\"text_25\">\n     <!-- Validation accuracy -->\n     <g style=\"fill: #262626\" transform=\"translate(796.234688 60.562031) scale(0.13 -0.13)\">\n      <defs>\n       <path id=\"ArialMT-56\" d=\"M 1803 0 \nL 28 4581 \nL 684 4581 \nL 1875 1253 \nQ 2019 853 2116 503 \nQ 2222 878 2363 1253 \nL 3600 4581 \nL 4219 4581 \nL 2425 0 \nL 1803 0 \nz\n\" transform=\"scale(0.015625)\"/>\n      </defs>\n      <use xlink:href=\"#ArialMT-56\"/>\n      <use xlink:href=\"#ArialMT-61\" x=\"59.324219\"/>\n      <use xlink:href=\"#ArialMT-6c\" x=\"114.939453\"/>\n      <use xlink:href=\"#ArialMT-69\" x=\"137.15625\"/>\n      <use xlink:href=\"#ArialMT-64\" x=\"159.373047\"/>\n      <use xlink:href=\"#ArialMT-61\" x=\"214.988281\"/>\n      <use xlink:href=\"#ArialMT-74\" x=\"270.603516\"/>\n      <use xlink:href=\"#ArialMT-69\" x=\"298.386719\"/>\n      <use xlink:href=\"#ArialMT-6f\" x=\"320.603516\"/>\n      <use xlink:href=\"#ArialMT-6e\" x=\"376.21875\"/>\n      <use xlink:href=\"#ArialMT-20\" x=\"431.833984\"/>\n      <use xlink:href=\"#ArialMT-61\" x=\"459.617188\"/>\n      <use xlink:href=\"#ArialMT-63\" x=\"515.232422\"/>\n      <use xlink:href=\"#ArialMT-63\" x=\"565.232422\"/>\n      <use xlink:href=\"#ArialMT-75\" x=\"615.232422\"/>\n      <use xlink:href=\"#ArialMT-72\" x=\"670.847656\"/>\n      <use xlink:href=\"#ArialMT-61\" x=\"704.148438\"/>\n      <use xlink:href=\"#ArialMT-63\" x=\"759.763672\"/>\n      <use xlink:href=\"#ArialMT-79\" x=\"809.763672\"/>\n     </g>\n    </g>\n   </g>\n  </g>\n </g>\n <defs>\n  <clipPath id=\"p0623f9520b\">\n   <rect x=\"51.554688\" y=\"27.515625\" width=\"669.6\" height=\"443.52\"/>\n  </clipPath>\n </defs>\n</svg>\n",
      "text/plain": [
       "<Figure size 2400x1600 with 1 Axes>"
      ]
     },
     "metadata": {},
     "output_type": "display_data"
    }
   ],
   "source": [
    "# Plot accuracy curves\n",
    "plot_metric_curves(epochs, acc, val_acc, \"navy\", \"deepskyblue\", \"Accuracy\", 2)"
   ]
  },
  {
   "attachments": {},
   "cell_type": "markdown",
   "metadata": {},
   "source": [
    "The plots above reveal an interesting phenomenon: the loss and accuracy values for the validation set consistently outperform those of the training set.\n",
    "\n",
    "Unlike the previous notebook that used a custom word embedding with slow learning rates, the training and validation loss for this model started decreasing rapidly from the outset. However, the difference between the training and validation loss increased significantly after the 15th epoch. Subsequently, after the 21st epoch, the validation loss did not improve while the training loss continued to decrease.\n",
    "\n",
    "The saved model has a validation loss of 0.57 and a validation accuracy of 0.71. In the following section, we will evaluate the model's performance on unseen data and compare its loss and accuracy with those obtained on the validation set."
   ]
  },
  {
   "cell_type": "markdown",
   "metadata": {},
   "source": [
    "## Evaluate model\n",
    "\n",
    "Let's finally see how well the model performs with unseen data. Firstly, we will load the test set:"
   ]
  },
  {
   "cell_type": "code",
   "execution_count": 21,
   "metadata": {},
   "outputs": [
    {
     "data": {
      "text/html": [
       "<div>\n",
       "<style scoped>\n",
       "    .dataframe tbody tr th:only-of-type {\n",
       "        vertical-align: middle;\n",
       "    }\n",
       "\n",
       "    .dataframe tbody tr th {\n",
       "        vertical-align: top;\n",
       "    }\n",
       "\n",
       "    .dataframe thead th {\n",
       "        text-align: right;\n",
       "    }\n",
       "</style>\n",
       "<table border=\"1\" class=\"dataframe\">\n",
       "  <thead>\n",
       "    <tr style=\"text-align: right;\">\n",
       "      <th></th>\n",
       "      <th>headline</th>\n",
       "      <th>label</th>\n",
       "    </tr>\n",
       "  </thead>\n",
       "  <tbody>\n",
       "    <tr>\n",
       "      <th>0</th>\n",
       "      <td>nextdoor ceo recruit army fanatic holy crusade...</td>\n",
       "      <td>1</td>\n",
       "    </tr>\n",
       "    <tr>\n",
       "      <th>1</th>\n",
       "      <td>exclusive interview clarence thomas</td>\n",
       "      <td>1</td>\n",
       "    </tr>\n",
       "    <tr>\n",
       "      <th>2</th>\n",
       "      <td>pro con banning book</td>\n",
       "      <td>1</td>\n",
       "    </tr>\n",
       "    <tr>\n",
       "      <th>3</th>\n",
       "      <td>know train derailment toxic chemical ohio</td>\n",
       "      <td>1</td>\n",
       "    </tr>\n",
       "    <tr>\n",
       "      <th>4</th>\n",
       "      <td>cia criticized use abusive etiquette coach bla...</td>\n",
       "      <td>1</td>\n",
       "    </tr>\n",
       "  </tbody>\n",
       "</table>\n",
       "</div>"
      ],
      "text/plain": [
       "                                            headline  label\n",
       "0  nextdoor ceo recruit army fanatic holy crusade...      1\n",
       "1                exclusive interview clarence thomas      1\n",
       "2                               pro con banning book      1\n",
       "3          know train derailment toxic chemical ohio      1\n",
       "4  cia criticized use abusive etiquette coach bla...      1"
      ]
     },
     "execution_count": 21,
     "metadata": {},
     "output_type": "execute_result"
    }
   ],
   "source": [
    "test_set = os.path.join(\"data\", \"Sarcasm_Headlines_Dataset_OOS_Prep.csv\")\n",
    "df_test = pd.read_csv(test_set, sep=\";\")\n",
    "df_test.head()"
   ]
  },
  {
   "cell_type": "code",
   "execution_count": 22,
   "metadata": {},
   "outputs": [
    {
     "data": {
      "text/plain": [
       "(1363, 2)"
      ]
     },
     "execution_count": 22,
     "metadata": {},
     "output_type": "execute_result"
    }
   ],
   "source": [
    "df_test.shape"
   ]
  },
  {
   "cell_type": "markdown",
   "metadata": {},
   "source": [
    "And then we need to create both $X_{test}$ and $y_{test}$:"
   ]
  },
  {
   "cell_type": "code",
   "execution_count": 23,
   "metadata": {},
   "outputs": [],
   "source": [
    "# Get X_test and y_test\n",
    "X_test = df_test.drop(\"label\", axis=1)\n",
    "y_test = df_test[\"label\"]"
   ]
  },
  {
   "cell_type": "markdown",
   "metadata": {},
   "source": [
    "Finally, we need to apply the same preprocessing steps that we applied to the training set (tokenization, padding and sequencing):"
   ]
  },
  {
   "cell_type": "code",
   "execution_count": 24,
   "metadata": {},
   "outputs": [],
   "source": [
    "# Apply tokenizer to test set\n",
    "test_sequences = tokenizer.texts_to_sequences(X_test[\"headline\"])\n",
    "test_padded = pad_sequences(test_sequences, maxlen=max_seq_len, padding=\"post\")"
   ]
  },
  {
   "cell_type": "markdown",
   "metadata": {},
   "source": [
    "Let's also load the best model obtained during training:"
   ]
  },
  {
   "cell_type": "code",
   "execution_count": 25,
   "metadata": {},
   "outputs": [],
   "source": [
    "rnn_model = load_model(model_path)"
   ]
  },
  {
   "cell_type": "markdown",
   "metadata": {},
   "source": [
    "We can now evaluate the model with the test set:"
   ]
  },
  {
   "cell_type": "code",
   "execution_count": 26,
   "metadata": {},
   "outputs": [
    {
     "name": "stdout",
     "output_type": "stream",
     "text": [
      "43/43 [==============================] - 0s 3ms/step - loss: 0.7326 - acc: 0.5811\n",
      "Test loss: 0.7326\n",
      "Test accuracy: 0.5811\n"
     ]
    }
   ],
   "source": [
    "# Evaluate model on test set\n",
    "loss_test, acc_test = rnn_model.evaluate(test_padded, np.array(y_test))\n",
    "print(\"Test loss: {:.4f}\".format(loss_test))\n",
    "print(\"Test accuracy: {:.4f}\".format(acc_test))"
   ]
  },
  {
   "cell_type": "code",
   "execution_count": 27,
   "metadata": {},
   "outputs": [
    {
     "name": "stdout",
     "output_type": "stream",
     "text": [
      "43/43 [==============================] - 0s 3ms/step\n"
     ]
    },
    {
     "data": {
      "image/svg+xml": "<?xml version=\"1.0\" encoding=\"utf-8\" standalone=\"no\"?>\n<!DOCTYPE svg PUBLIC \"-//W3C//DTD SVG 1.1//EN\"\n  \"http://www.w3.org/Graphics/SVG/1.1/DTD/svg11.dtd\">\n<svg xmlns:xlink=\"http://www.w3.org/1999/xlink\" width=\"389.718225pt\" height=\"335.605437pt\" viewBox=\"0 0 389.718225 335.605437\" xmlns=\"http://www.w3.org/2000/svg\" version=\"1.1\">\n <metadata>\n  <rdf:RDF xmlns:dc=\"http://purl.org/dc/elements/1.1/\" xmlns:cc=\"http://creativecommons.org/ns#\" xmlns:rdf=\"http://www.w3.org/1999/02/22-rdf-syntax-ns#\">\n   <cc:Work>\n    <dc:type rdf:resource=\"http://purl.org/dc/dcmitype/StillImage\"/>\n    <dc:date>2023-04-16T13:32:33.191806</dc:date>\n    <dc:format>image/svg+xml</dc:format>\n    <dc:creator>\n     <cc:Agent>\n      <dc:title>Matplotlib v3.6.3, https://matplotlib.org/</dc:title>\n     </cc:Agent>\n    </dc:creator>\n   </cc:Work>\n  </rdf:RDF>\n </metadata>\n <defs>\n  <style type=\"text/css\">*{stroke-linejoin: round; stroke-linecap: butt}</style>\n </defs>\n <g id=\"figure_1\">\n  <g id=\"patch_1\">\n   <path d=\"M 0 335.605437 \nL 389.718225 335.605437 \nL 389.718225 0 \nL 0 0 \nz\n\" style=\"fill: #ffffff\"/>\n  </g>\n  <g id=\"axes_1\">\n   <g id=\"patch_2\">\n    <path d=\"M 41.977813 293.627625 \nL 327.673813 293.627625 \nL 327.673813 27.515625 \nL 41.977813 27.515625 \nz\n\" style=\"fill: #ffffff\"/>\n   </g>\n   <g id=\"matplotlib.axis_1\">\n    <g id=\"xtick_1\">\n     <g id=\"text_1\">\n      <!-- Not sarcastic -->\n      <g style=\"fill: #262626\" transform=\"translate(81.616969 308.501219) scale(0.11 -0.11)\">\n       <defs>\n        <path id=\"ArialMT-4e\" d=\"M 488 0 \nL 488 4581 \nL 1109 4581 \nL 3516 984 \nL 3516 4581 \nL 4097 4581 \nL 4097 0 \nL 3475 0 \nL 1069 3600 \nL 1069 0 \nL 488 0 \nz\n\" transform=\"scale(0.015625)\"/>\n        <path id=\"ArialMT-6f\" d=\"M 213 1659 \nQ 213 2581 725 3025 \nQ 1153 3394 1769 3394 \nQ 2453 3394 2887 2945 \nQ 3322 2497 3322 1706 \nQ 3322 1066 3130 698 \nQ 2938 331 2570 128 \nQ 2203 -75 1769 -75 \nQ 1072 -75 642 372 \nQ 213 819 213 1659 \nz\nM 791 1659 \nQ 791 1022 1069 705 \nQ 1347 388 1769 388 \nQ 2188 388 2466 706 \nQ 2744 1025 2744 1678 \nQ 2744 2294 2464 2611 \nQ 2184 2928 1769 2928 \nQ 1347 2928 1069 2612 \nQ 791 2297 791 1659 \nz\n\" transform=\"scale(0.015625)\"/>\n        <path id=\"ArialMT-74\" d=\"M 1650 503 \nL 1731 6 \nQ 1494 -44 1306 -44 \nQ 1000 -44 831 53 \nQ 663 150 594 308 \nQ 525 466 525 972 \nL 525 2881 \nL 113 2881 \nL 113 3319 \nL 525 3319 \nL 525 4141 \nL 1084 4478 \nL 1084 3319 \nL 1650 3319 \nL 1650 2881 \nL 1084 2881 \nL 1084 941 \nQ 1084 700 1114 631 \nQ 1144 563 1211 522 \nQ 1278 481 1403 481 \nQ 1497 481 1650 503 \nz\n\" transform=\"scale(0.015625)\"/>\n        <path id=\"ArialMT-20\" transform=\"scale(0.015625)\"/>\n        <path id=\"ArialMT-73\" d=\"M 197 991 \nL 753 1078 \nQ 800 744 1014 566 \nQ 1228 388 1613 388 \nQ 2000 388 2187 545 \nQ 2375 703 2375 916 \nQ 2375 1106 2209 1216 \nQ 2094 1291 1634 1406 \nQ 1016 1563 777 1677 \nQ 538 1791 414 1992 \nQ 291 2194 291 2438 \nQ 291 2659 392 2848 \nQ 494 3038 669 3163 \nQ 800 3259 1026 3326 \nQ 1253 3394 1513 3394 \nQ 1903 3394 2198 3281 \nQ 2494 3169 2634 2976 \nQ 2775 2784 2828 2463 \nL 2278 2388 \nQ 2241 2644 2061 2787 \nQ 1881 2931 1553 2931 \nQ 1166 2931 1000 2803 \nQ 834 2675 834 2503 \nQ 834 2394 903 2306 \nQ 972 2216 1119 2156 \nQ 1203 2125 1616 2013 \nQ 2213 1853 2448 1751 \nQ 2684 1650 2818 1456 \nQ 2953 1263 2953 975 \nQ 2953 694 2789 445 \nQ 2625 197 2315 61 \nQ 2006 -75 1616 -75 \nQ 969 -75 630 194 \nQ 291 463 197 991 \nz\n\" transform=\"scale(0.015625)\"/>\n        <path id=\"ArialMT-61\" d=\"M 2588 409 \nQ 2275 144 1986 34 \nQ 1697 -75 1366 -75 \nQ 819 -75 525 192 \nQ 231 459 231 875 \nQ 231 1119 342 1320 \nQ 453 1522 633 1644 \nQ 813 1766 1038 1828 \nQ 1203 1872 1538 1913 \nQ 2219 1994 2541 2106 \nQ 2544 2222 2544 2253 \nQ 2544 2597 2384 2738 \nQ 2169 2928 1744 2928 \nQ 1347 2928 1158 2789 \nQ 969 2650 878 2297 \nL 328 2372 \nQ 403 2725 575 2942 \nQ 747 3159 1072 3276 \nQ 1397 3394 1825 3394 \nQ 2250 3394 2515 3294 \nQ 2781 3194 2906 3042 \nQ 3031 2891 3081 2659 \nQ 3109 2516 3109 2141 \nL 3109 1391 \nQ 3109 606 3145 398 \nQ 3181 191 3288 0 \nL 2700 0 \nQ 2613 175 2588 409 \nz\nM 2541 1666 \nQ 2234 1541 1622 1453 \nQ 1275 1403 1131 1340 \nQ 988 1278 909 1158 \nQ 831 1038 831 891 \nQ 831 666 1001 516 \nQ 1172 366 1500 366 \nQ 1825 366 2078 508 \nQ 2331 650 2450 897 \nQ 2541 1088 2541 1459 \nL 2541 1666 \nz\n\" transform=\"scale(0.015625)\"/>\n        <path id=\"ArialMT-72\" d=\"M 416 0 \nL 416 3319 \nL 922 3319 \nL 922 2816 \nQ 1116 3169 1280 3281 \nQ 1444 3394 1641 3394 \nQ 1925 3394 2219 3213 \nL 2025 2691 \nQ 1819 2813 1613 2813 \nQ 1428 2813 1281 2702 \nQ 1134 2591 1072 2394 \nQ 978 2094 978 1738 \nL 978 0 \nL 416 0 \nz\n\" transform=\"scale(0.015625)\"/>\n        <path id=\"ArialMT-63\" d=\"M 2588 1216 \nL 3141 1144 \nQ 3050 572 2676 248 \nQ 2303 -75 1759 -75 \nQ 1078 -75 664 370 \nQ 250 816 250 1647 \nQ 250 2184 428 2587 \nQ 606 2991 970 3192 \nQ 1334 3394 1763 3394 \nQ 2303 3394 2647 3120 \nQ 2991 2847 3088 2344 \nL 2541 2259 \nQ 2463 2594 2264 2762 \nQ 2066 2931 1784 2931 \nQ 1359 2931 1093 2626 \nQ 828 2322 828 1663 \nQ 828 994 1084 691 \nQ 1341 388 1753 388 \nQ 2084 388 2306 591 \nQ 2528 794 2588 1216 \nz\n\" transform=\"scale(0.015625)\"/>\n        <path id=\"ArialMT-69\" d=\"M 425 3934 \nL 425 4581 \nL 988 4581 \nL 988 3934 \nL 425 3934 \nz\nM 425 0 \nL 425 3319 \nL 988 3319 \nL 988 0 \nL 425 0 \nz\n\" transform=\"scale(0.015625)\"/>\n       </defs>\n       <use xlink:href=\"#ArialMT-4e\"/>\n       <use xlink:href=\"#ArialMT-6f\" x=\"72.216797\"/>\n       <use xlink:href=\"#ArialMT-74\" x=\"127.832031\"/>\n       <use xlink:href=\"#ArialMT-20\" x=\"155.615234\"/>\n       <use xlink:href=\"#ArialMT-73\" x=\"183.398438\"/>\n       <use xlink:href=\"#ArialMT-61\" x=\"233.398438\"/>\n       <use xlink:href=\"#ArialMT-72\" x=\"289.013672\"/>\n       <use xlink:href=\"#ArialMT-63\" x=\"322.314453\"/>\n       <use xlink:href=\"#ArialMT-61\" x=\"372.314453\"/>\n       <use xlink:href=\"#ArialMT-73\" x=\"427.929688\"/>\n       <use xlink:href=\"#ArialMT-74\" x=\"477.929688\"/>\n       <use xlink:href=\"#ArialMT-69\" x=\"505.712891\"/>\n       <use xlink:href=\"#ArialMT-63\" x=\"527.929688\"/>\n      </g>\n     </g>\n    </g>\n    <g id=\"xtick_2\">\n     <g id=\"text_2\">\n      <!-- Sarcastic -->\n      <g style=\"fill: #262626\" transform=\"translate(233.632781 308.501219) scale(0.11 -0.11)\">\n       <defs>\n        <path id=\"ArialMT-53\" d=\"M 288 1472 \nL 859 1522 \nQ 900 1178 1048 958 \nQ 1197 738 1509 602 \nQ 1822 466 2213 466 \nQ 2559 466 2825 569 \nQ 3091 672 3220 851 \nQ 3350 1031 3350 1244 \nQ 3350 1459 3225 1620 \nQ 3100 1781 2813 1891 \nQ 2628 1963 1997 2114 \nQ 1366 2266 1113 2400 \nQ 784 2572 623 2826 \nQ 463 3081 463 3397 \nQ 463 3744 659 4045 \nQ 856 4347 1234 4503 \nQ 1613 4659 2075 4659 \nQ 2584 4659 2973 4495 \nQ 3363 4331 3572 4012 \nQ 3781 3694 3797 3291 \nL 3216 3247 \nQ 3169 3681 2898 3903 \nQ 2628 4125 2100 4125 \nQ 1550 4125 1298 3923 \nQ 1047 3722 1047 3438 \nQ 1047 3191 1225 3031 \nQ 1400 2872 2139 2705 \nQ 2878 2538 3153 2413 \nQ 3553 2228 3743 1945 \nQ 3934 1663 3934 1294 \nQ 3934 928 3725 604 \nQ 3516 281 3123 101 \nQ 2731 -78 2241 -78 \nQ 1619 -78 1198 103 \nQ 778 284 539 648 \nQ 300 1013 288 1472 \nz\n\" transform=\"scale(0.015625)\"/>\n       </defs>\n       <use xlink:href=\"#ArialMT-53\"/>\n       <use xlink:href=\"#ArialMT-61\" x=\"66.699219\"/>\n       <use xlink:href=\"#ArialMT-72\" x=\"122.314453\"/>\n       <use xlink:href=\"#ArialMT-63\" x=\"155.615234\"/>\n       <use xlink:href=\"#ArialMT-61\" x=\"205.615234\"/>\n       <use xlink:href=\"#ArialMT-73\" x=\"261.230469\"/>\n       <use xlink:href=\"#ArialMT-74\" x=\"311.230469\"/>\n       <use xlink:href=\"#ArialMT-69\" x=\"339.013672\"/>\n       <use xlink:href=\"#ArialMT-63\" x=\"361.230469\"/>\n      </g>\n     </g>\n    </g>\n    <g id=\"text_3\">\n     <!-- Predicted label -->\n     <g style=\"fill: #262626\" transform=\"translate(135.214484 325.424187) scale(0.15 -0.15)\">\n      <defs>\n       <path id=\"ArialMT-50\" d=\"M 494 0 \nL 494 4581 \nL 2222 4581 \nQ 2678 4581 2919 4538 \nQ 3256 4481 3484 4323 \nQ 3713 4166 3852 3881 \nQ 3991 3597 3991 3256 \nQ 3991 2672 3619 2267 \nQ 3247 1863 2275 1863 \nL 1100 1863 \nL 1100 0 \nL 494 0 \nz\nM 1100 2403 \nL 2284 2403 \nQ 2872 2403 3119 2622 \nQ 3366 2841 3366 3238 \nQ 3366 3525 3220 3729 \nQ 3075 3934 2838 4000 \nQ 2684 4041 2272 4041 \nL 1100 4041 \nL 1100 2403 \nz\n\" transform=\"scale(0.015625)\"/>\n       <path id=\"ArialMT-65\" d=\"M 2694 1069 \nL 3275 997 \nQ 3138 488 2766 206 \nQ 2394 -75 1816 -75 \nQ 1088 -75 661 373 \nQ 234 822 234 1631 \nQ 234 2469 665 2931 \nQ 1097 3394 1784 3394 \nQ 2450 3394 2872 2941 \nQ 3294 2488 3294 1666 \nQ 3294 1616 3291 1516 \nL 816 1516 \nQ 847 969 1125 678 \nQ 1403 388 1819 388 \nQ 2128 388 2347 550 \nQ 2566 713 2694 1069 \nz\nM 847 1978 \nL 2700 1978 \nQ 2663 2397 2488 2606 \nQ 2219 2931 1791 2931 \nQ 1403 2931 1139 2672 \nQ 875 2413 847 1978 \nz\n\" transform=\"scale(0.015625)\"/>\n       <path id=\"ArialMT-64\" d=\"M 2575 0 \nL 2575 419 \nQ 2259 -75 1647 -75 \nQ 1250 -75 917 144 \nQ 584 363 401 755 \nQ 219 1147 219 1656 \nQ 219 2153 384 2558 \nQ 550 2963 881 3178 \nQ 1213 3394 1622 3394 \nQ 1922 3394 2156 3267 \nQ 2391 3141 2538 2938 \nL 2538 4581 \nL 3097 4581 \nL 3097 0 \nL 2575 0 \nz\nM 797 1656 \nQ 797 1019 1065 703 \nQ 1334 388 1700 388 \nQ 2069 388 2326 689 \nQ 2584 991 2584 1609 \nQ 2584 2291 2321 2609 \nQ 2059 2928 1675 2928 \nQ 1300 2928 1048 2622 \nQ 797 2316 797 1656 \nz\n\" transform=\"scale(0.015625)\"/>\n       <path id=\"ArialMT-6c\" d=\"M 409 0 \nL 409 4581 \nL 972 4581 \nL 972 0 \nL 409 0 \nz\n\" transform=\"scale(0.015625)\"/>\n       <path id=\"ArialMT-62\" d=\"M 941 0 \nL 419 0 \nL 419 4581 \nL 981 4581 \nL 981 2947 \nQ 1338 3394 1891 3394 \nQ 2197 3394 2470 3270 \nQ 2744 3147 2920 2923 \nQ 3097 2700 3197 2384 \nQ 3297 2069 3297 1709 \nQ 3297 856 2875 390 \nQ 2453 -75 1863 -75 \nQ 1275 -75 941 416 \nL 941 0 \nz\nM 934 1684 \nQ 934 1088 1097 822 \nQ 1363 388 1816 388 \nQ 2184 388 2453 708 \nQ 2722 1028 2722 1663 \nQ 2722 2313 2464 2622 \nQ 2206 2931 1841 2931 \nQ 1472 2931 1203 2611 \nQ 934 2291 934 1684 \nz\n\" transform=\"scale(0.015625)\"/>\n      </defs>\n      <use xlink:href=\"#ArialMT-50\"/>\n      <use xlink:href=\"#ArialMT-72\" x=\"66.699219\"/>\n      <use xlink:href=\"#ArialMT-65\" x=\"100\"/>\n      <use xlink:href=\"#ArialMT-64\" x=\"155.615234\"/>\n      <use xlink:href=\"#ArialMT-69\" x=\"211.230469\"/>\n      <use xlink:href=\"#ArialMT-63\" x=\"233.447266\"/>\n      <use xlink:href=\"#ArialMT-74\" x=\"283.447266\"/>\n      <use xlink:href=\"#ArialMT-65\" x=\"311.230469\"/>\n      <use xlink:href=\"#ArialMT-64\" x=\"366.845703\"/>\n      <use xlink:href=\"#ArialMT-20\" x=\"422.460938\"/>\n      <use xlink:href=\"#ArialMT-6c\" x=\"450.244141\"/>\n      <use xlink:href=\"#ArialMT-61\" x=\"472.460938\"/>\n      <use xlink:href=\"#ArialMT-62\" x=\"528.076172\"/>\n      <use xlink:href=\"#ArialMT-65\" x=\"583.691406\"/>\n      <use xlink:href=\"#ArialMT-6c\" x=\"639.306641\"/>\n     </g>\n    </g>\n   </g>\n   <g id=\"matplotlib.axis_2\">\n    <g id=\"ytick_1\">\n     <g id=\"text_4\">\n      <!-- Not sarcastic -->\n      <g style=\"fill: #262626\" transform=\"translate(32.791563 125.828469) rotate(-90) scale(0.11 -0.11)\">\n       <use xlink:href=\"#ArialMT-4e\"/>\n       <use xlink:href=\"#ArialMT-6f\" x=\"72.216797\"/>\n       <use xlink:href=\"#ArialMT-74\" x=\"127.832031\"/>\n       <use xlink:href=\"#ArialMT-20\" x=\"155.615234\"/>\n       <use xlink:href=\"#ArialMT-73\" x=\"183.398438\"/>\n       <use xlink:href=\"#ArialMT-61\" x=\"233.398438\"/>\n       <use xlink:href=\"#ArialMT-72\" x=\"289.013672\"/>\n       <use xlink:href=\"#ArialMT-63\" x=\"322.314453\"/>\n       <use xlink:href=\"#ArialMT-61\" x=\"372.314453\"/>\n       <use xlink:href=\"#ArialMT-73\" x=\"427.929688\"/>\n       <use xlink:href=\"#ArialMT-74\" x=\"477.929688\"/>\n       <use xlink:href=\"#ArialMT-69\" x=\"505.712891\"/>\n       <use xlink:href=\"#ArialMT-63\" x=\"527.929688\"/>\n      </g>\n     </g>\n    </g>\n    <g id=\"ytick_2\">\n     <g id=\"text_5\">\n      <!-- Sarcastic -->\n      <g style=\"fill: #262626\" transform=\"translate(32.791563 249.716656) rotate(-90) scale(0.11 -0.11)\">\n       <use xlink:href=\"#ArialMT-53\"/>\n       <use xlink:href=\"#ArialMT-61\" x=\"66.699219\"/>\n       <use xlink:href=\"#ArialMT-72\" x=\"122.314453\"/>\n       <use xlink:href=\"#ArialMT-63\" x=\"155.615234\"/>\n       <use xlink:href=\"#ArialMT-61\" x=\"205.615234\"/>\n       <use xlink:href=\"#ArialMT-73\" x=\"261.230469\"/>\n       <use xlink:href=\"#ArialMT-74\" x=\"311.230469\"/>\n       <use xlink:href=\"#ArialMT-69\" x=\"339.013672\"/>\n       <use xlink:href=\"#ArialMT-63\" x=\"361.230469\"/>\n      </g>\n     </g>\n    </g>\n    <g id=\"text_6\">\n     <!-- True label -->\n     <g style=\"fill: #262626\" transform=\"translate(17.936719 193.638422) rotate(-90) scale(0.15 -0.15)\">\n      <defs>\n       <path id=\"ArialMT-54\" d=\"M 1659 0 \nL 1659 4041 \nL 150 4041 \nL 150 4581 \nL 3781 4581 \nL 3781 4041 \nL 2266 4041 \nL 2266 0 \nL 1659 0 \nz\n\" transform=\"scale(0.015625)\"/>\n       <path id=\"ArialMT-75\" d=\"M 2597 0 \nL 2597 488 \nQ 2209 -75 1544 -75 \nQ 1250 -75 995 37 \nQ 741 150 617 320 \nQ 494 491 444 738 \nQ 409 903 409 1263 \nL 409 3319 \nL 972 3319 \nL 972 1478 \nQ 972 1038 1006 884 \nQ 1059 663 1231 536 \nQ 1403 409 1656 409 \nQ 1909 409 2131 539 \nQ 2353 669 2445 892 \nQ 2538 1116 2538 1541 \nL 2538 3319 \nL 3100 3319 \nL 3100 0 \nL 2597 0 \nz\n\" transform=\"scale(0.015625)\"/>\n      </defs>\n      <use xlink:href=\"#ArialMT-54\"/>\n      <use xlink:href=\"#ArialMT-72\" x=\"57.333984\"/>\n      <use xlink:href=\"#ArialMT-75\" x=\"90.634766\"/>\n      <use xlink:href=\"#ArialMT-65\" x=\"146.25\"/>\n      <use xlink:href=\"#ArialMT-20\" x=\"201.865234\"/>\n      <use xlink:href=\"#ArialMT-6c\" x=\"229.648438\"/>\n      <use xlink:href=\"#ArialMT-61\" x=\"251.865234\"/>\n      <use xlink:href=\"#ArialMT-62\" x=\"307.480469\"/>\n      <use xlink:href=\"#ArialMT-65\" x=\"363.095703\"/>\n      <use xlink:href=\"#ArialMT-6c\" x=\"418.710938\"/>\n     </g>\n    </g>\n   </g>\n   <g id=\"QuadMesh_1\">\n    <path d=\"M 41.977813 27.515625 \nL 184.825813 27.515625 \nL 184.825813 160.571625 \nL 41.977813 160.571625 \nL 41.977813 27.515625 \n\" clip-path=\"url(#p43747d3687)\" style=\"fill: #08306b\"/>\n    <path d=\"M 184.825813 27.515625 \nL 327.673813 27.515625 \nL 327.673813 160.571625 \nL 184.825813 160.571625 \nL 184.825813 27.515625 \n\" clip-path=\"url(#p43747d3687)\" style=\"fill: #b2d2e8\"/>\n    <path d=\"M 41.977813 160.571625 \nL 184.825813 160.571625 \nL 184.825813 293.627625 \nL 41.977813 293.627625 \nL 41.977813 160.571625 \n\" clip-path=\"url(#p43747d3687)\" style=\"fill: #083d7f\"/>\n    <path d=\"M 184.825813 160.571625 \nL 327.673813 160.571625 \nL 327.673813 293.627625 \nL 184.825813 293.627625 \nL 184.825813 160.571625 \n\" clip-path=\"url(#p43747d3687)\" style=\"fill: #2171b5\"/>\n   </g>\n   <g id=\"text_7\">\n    <!-- 453 -->\n    <g style=\"fill: #ffffff\" transform=\"translate(105.060406 96.628781) scale(0.1 -0.1)\">\n     <defs>\n      <path id=\"ArialMT-34\" d=\"M 2069 0 \nL 2069 1097 \nL 81 1097 \nL 81 1613 \nL 2172 4581 \nL 2631 4581 \nL 2631 1613 \nL 3250 1613 \nL 3250 1097 \nL 2631 1097 \nL 2631 0 \nL 2069 0 \nz\nM 2069 1613 \nL 2069 3678 \nL 634 1613 \nL 2069 1613 \nz\n\" transform=\"scale(0.015625)\"/>\n      <path id=\"ArialMT-35\" d=\"M 266 1200 \nL 856 1250 \nQ 922 819 1161 601 \nQ 1400 384 1738 384 \nQ 2144 384 2425 690 \nQ 2706 997 2706 1503 \nQ 2706 1984 2436 2262 \nQ 2166 2541 1728 2541 \nQ 1456 2541 1237 2417 \nQ 1019 2294 894 2097 \nL 366 2166 \nL 809 4519 \nL 3088 4519 \nL 3088 3981 \nL 1259 3981 \nL 1013 2750 \nQ 1425 3038 1878 3038 \nQ 2478 3038 2890 2622 \nQ 3303 2206 3303 1553 \nQ 3303 931 2941 478 \nQ 2500 -78 1738 -78 \nQ 1113 -78 717 272 \nQ 322 622 266 1200 \nz\n\" transform=\"scale(0.015625)\"/>\n      <path id=\"ArialMT-33\" d=\"M 269 1209 \nL 831 1284 \nQ 928 806 1161 595 \nQ 1394 384 1728 384 \nQ 2125 384 2398 659 \nQ 2672 934 2672 1341 \nQ 2672 1728 2419 1979 \nQ 2166 2231 1775 2231 \nQ 1616 2231 1378 2169 \nL 1441 2663 \nQ 1497 2656 1531 2656 \nQ 1891 2656 2178 2843 \nQ 2466 3031 2466 3422 \nQ 2466 3731 2256 3934 \nQ 2047 4138 1716 4138 \nQ 1388 4138 1169 3931 \nQ 950 3725 888 3313 \nL 325 3413 \nQ 428 3978 793 4289 \nQ 1159 4600 1703 4600 \nQ 2078 4600 2393 4439 \nQ 2709 4278 2876 4000 \nQ 3044 3722 3044 3409 \nQ 3044 3113 2884 2869 \nQ 2725 2625 2413 2481 \nQ 2819 2388 3044 2092 \nQ 3269 1797 3269 1353 \nQ 3269 753 2831 336 \nQ 2394 -81 1725 -81 \nQ 1122 -81 723 278 \nQ 325 638 269 1209 \nz\n\" transform=\"scale(0.015625)\"/>\n     </defs>\n     <use xlink:href=\"#ArialMT-34\"/>\n     <use xlink:href=\"#ArialMT-35\" x=\"55.615234\"/>\n     <use xlink:href=\"#ArialMT-33\" x=\"111.230469\"/>\n    </g>\n   </g>\n   <g id=\"text_8\">\n    <!-- 142 -->\n    <g style=\"fill: #262626\" transform=\"translate(247.908406 96.628781) scale(0.1 -0.1)\">\n     <defs>\n      <path id=\"ArialMT-31\" d=\"M 2384 0 \nL 1822 0 \nL 1822 3584 \nQ 1619 3391 1289 3197 \nQ 959 3003 697 2906 \nL 697 3450 \nQ 1169 3672 1522 3987 \nQ 1875 4303 2022 4600 \nL 2384 4600 \nL 2384 0 \nz\n\" transform=\"scale(0.015625)\"/>\n      <path id=\"ArialMT-32\" d=\"M 3222 541 \nL 3222 0 \nL 194 0 \nQ 188 203 259 391 \nQ 375 700 629 1000 \nQ 884 1300 1366 1694 \nQ 2113 2306 2375 2664 \nQ 2638 3022 2638 3341 \nQ 2638 3675 2398 3904 \nQ 2159 4134 1775 4134 \nQ 1369 4134 1125 3890 \nQ 881 3647 878 3216 \nL 300 3275 \nQ 359 3922 746 4261 \nQ 1134 4600 1788 4600 \nQ 2447 4600 2831 4234 \nQ 3216 3869 3216 3328 \nQ 3216 3053 3103 2787 \nQ 2991 2522 2730 2228 \nQ 2469 1934 1863 1422 \nQ 1356 997 1212 845 \nQ 1069 694 975 541 \nL 3222 541 \nz\n\" transform=\"scale(0.015625)\"/>\n     </defs>\n     <use xlink:href=\"#ArialMT-31\"/>\n     <use xlink:href=\"#ArialMT-34\" x=\"55.615234\"/>\n     <use xlink:href=\"#ArialMT-32\" x=\"111.230469\"/>\n    </g>\n   </g>\n   <g id=\"text_9\">\n    <!-- 429 -->\n    <g style=\"fill: #ffffff\" transform=\"translate(105.060406 229.684781) scale(0.1 -0.1)\">\n     <defs>\n      <path id=\"ArialMT-39\" d=\"M 350 1059 \nL 891 1109 \nQ 959 728 1153 556 \nQ 1347 384 1650 384 \nQ 1909 384 2104 503 \nQ 2300 622 2425 820 \nQ 2550 1019 2634 1356 \nQ 2719 1694 2719 2044 \nQ 2719 2081 2716 2156 \nQ 2547 1888 2255 1720 \nQ 1963 1553 1622 1553 \nQ 1053 1553 659 1965 \nQ 266 2378 266 3053 \nQ 266 3750 677 4175 \nQ 1088 4600 1706 4600 \nQ 2153 4600 2523 4359 \nQ 2894 4119 3086 3673 \nQ 3278 3228 3278 2384 \nQ 3278 1506 3087 986 \nQ 2897 466 2520 194 \nQ 2144 -78 1638 -78 \nQ 1100 -78 759 220 \nQ 419 519 350 1059 \nz\nM 2653 3081 \nQ 2653 3566 2395 3850 \nQ 2138 4134 1775 4134 \nQ 1400 4134 1122 3828 \nQ 844 3522 844 3034 \nQ 844 2597 1108 2323 \nQ 1372 2050 1759 2050 \nQ 2150 2050 2401 2323 \nQ 2653 2597 2653 3081 \nz\n\" transform=\"scale(0.015625)\"/>\n     </defs>\n     <use xlink:href=\"#ArialMT-34\"/>\n     <use xlink:href=\"#ArialMT-32\" x=\"55.615234\"/>\n     <use xlink:href=\"#ArialMT-39\" x=\"111.230469\"/>\n    </g>\n   </g>\n   <g id=\"text_10\">\n    <!-- 339 -->\n    <g style=\"fill: #ffffff\" transform=\"translate(247.908406 229.684781) scale(0.1 -0.1)\">\n     <use xlink:href=\"#ArialMT-33\"/>\n     <use xlink:href=\"#ArialMT-33\" x=\"55.615234\"/>\n     <use xlink:href=\"#ArialMT-39\" x=\"111.230469\"/>\n    </g>\n   </g>\n   <g id=\"text_11\">\n    <!-- Confusion matrix -->\n    <g style=\"fill: #262626\" transform=\"translate(109.800813 21.515625) scale(0.2 -0.2)\">\n     <defs>\n      <path id=\"ArialMT-43\" d=\"M 3763 1606 \nL 4369 1453 \nQ 4178 706 3683 314 \nQ 3188 -78 2472 -78 \nQ 1731 -78 1267 223 \nQ 803 525 561 1097 \nQ 319 1669 319 2325 \nQ 319 3041 592 3573 \nQ 866 4106 1370 4382 \nQ 1875 4659 2481 4659 \nQ 3169 4659 3637 4309 \nQ 4106 3959 4291 3325 \nL 3694 3184 \nQ 3534 3684 3231 3912 \nQ 2928 4141 2469 4141 \nQ 1941 4141 1586 3887 \nQ 1231 3634 1087 3207 \nQ 944 2781 944 2328 \nQ 944 1744 1114 1308 \nQ 1284 872 1643 656 \nQ 2003 441 2422 441 \nQ 2931 441 3284 734 \nQ 3638 1028 3763 1606 \nz\n\" transform=\"scale(0.015625)\"/>\n      <path id=\"ArialMT-6e\" d=\"M 422 0 \nL 422 3319 \nL 928 3319 \nL 928 2847 \nQ 1294 3394 1984 3394 \nQ 2284 3394 2536 3286 \nQ 2788 3178 2913 3003 \nQ 3038 2828 3088 2588 \nQ 3119 2431 3119 2041 \nL 3119 0 \nL 2556 0 \nL 2556 2019 \nQ 2556 2363 2490 2533 \nQ 2425 2703 2258 2804 \nQ 2091 2906 1866 2906 \nQ 1506 2906 1245 2678 \nQ 984 2450 984 1813 \nL 984 0 \nL 422 0 \nz\n\" transform=\"scale(0.015625)\"/>\n      <path id=\"ArialMT-66\" d=\"M 556 0 \nL 556 2881 \nL 59 2881 \nL 59 3319 \nL 556 3319 \nL 556 3672 \nQ 556 4006 616 4169 \nQ 697 4388 901 4523 \nQ 1106 4659 1475 4659 \nQ 1713 4659 2000 4603 \nL 1916 4113 \nQ 1741 4144 1584 4144 \nQ 1328 4144 1222 4034 \nQ 1116 3925 1116 3625 \nL 1116 3319 \nL 1763 3319 \nL 1763 2881 \nL 1116 2881 \nL 1116 0 \nL 556 0 \nz\n\" transform=\"scale(0.015625)\"/>\n      <path id=\"ArialMT-6d\" d=\"M 422 0 \nL 422 3319 \nL 925 3319 \nL 925 2853 \nQ 1081 3097 1340 3245 \nQ 1600 3394 1931 3394 \nQ 2300 3394 2536 3241 \nQ 2772 3088 2869 2813 \nQ 3263 3394 3894 3394 \nQ 4388 3394 4653 3120 \nQ 4919 2847 4919 2278 \nL 4919 0 \nL 4359 0 \nL 4359 2091 \nQ 4359 2428 4304 2576 \nQ 4250 2725 4106 2815 \nQ 3963 2906 3769 2906 \nQ 3419 2906 3187 2673 \nQ 2956 2441 2956 1928 \nL 2956 0 \nL 2394 0 \nL 2394 2156 \nQ 2394 2531 2256 2718 \nQ 2119 2906 1806 2906 \nQ 1569 2906 1367 2781 \nQ 1166 2656 1075 2415 \nQ 984 2175 984 1722 \nL 984 0 \nL 422 0 \nz\n\" transform=\"scale(0.015625)\"/>\n      <path id=\"ArialMT-78\" d=\"M 47 0 \nL 1259 1725 \nL 138 3319 \nL 841 3319 \nL 1350 2541 \nQ 1494 2319 1581 2169 \nQ 1719 2375 1834 2534 \nL 2394 3319 \nL 3066 3319 \nL 1919 1756 \nL 3153 0 \nL 2463 0 \nL 1781 1031 \nL 1600 1309 \nL 728 0 \nL 47 0 \nz\n\" transform=\"scale(0.015625)\"/>\n     </defs>\n     <use xlink:href=\"#ArialMT-43\"/>\n     <use xlink:href=\"#ArialMT-6f\" x=\"72.216797\"/>\n     <use xlink:href=\"#ArialMT-6e\" x=\"127.832031\"/>\n     <use xlink:href=\"#ArialMT-66\" x=\"183.447266\"/>\n     <use xlink:href=\"#ArialMT-75\" x=\"211.230469\"/>\n     <use xlink:href=\"#ArialMT-73\" x=\"266.845703\"/>\n     <use xlink:href=\"#ArialMT-69\" x=\"316.845703\"/>\n     <use xlink:href=\"#ArialMT-6f\" x=\"339.0625\"/>\n     <use xlink:href=\"#ArialMT-6e\" x=\"394.677734\"/>\n     <use xlink:href=\"#ArialMT-20\" x=\"450.292969\"/>\n     <use xlink:href=\"#ArialMT-6d\" x=\"478.076172\"/>\n     <use xlink:href=\"#ArialMT-61\" x=\"561.376953\"/>\n     <use xlink:href=\"#ArialMT-74\" x=\"616.992188\"/>\n     <use xlink:href=\"#ArialMT-72\" x=\"644.775391\"/>\n     <use xlink:href=\"#ArialMT-69\" x=\"678.076172\"/>\n     <use xlink:href=\"#ArialMT-78\" x=\"700.292969\"/>\n    </g>\n   </g>\n  </g>\n  <g id=\"axes_2\">\n   <g id=\"patch_3\">\n    <path d=\"M 345.529813 293.627625 \nL 358.835413 293.627625 \nL 358.835413 27.515625 \nL 345.529813 27.515625 \nz\n\" style=\"fill: #ffffff\"/>\n   </g>\n   <g id=\"patch_4\">\n    <path clip-path=\"url(#p34144d4027)\" style=\"fill: #ffffff; stroke: #ffffff; stroke-width: 0.01; stroke-linejoin: miter\"/>\n   </g>\n   <g id=\"matplotlib.axis_3\"/>\n   <g id=\"matplotlib.axis_4\">\n    <g id=\"ytick_3\">\n     <g id=\"line2d_1\">\n      <defs>\n       <path id=\"m386a46b800\" d=\"M 0 0 \nL 3.5 0 \n\" style=\"stroke: #262626; stroke-width: 0.8\"/>\n      </defs>\n      <g>\n       <use xlink:href=\"#m386a46b800\" x=\"358.835413\" y=\"293.627625\" style=\"fill: #262626; stroke: #262626; stroke-width: 0.8\"/>\n      </g>\n     </g>\n     <g id=\"text_12\">\n      <!-- 0 -->\n      <g style=\"fill: #262626\" transform=\"translate(365.835413 297.206531) scale(0.1 -0.1)\">\n       <defs>\n        <path id=\"ArialMT-30\" d=\"M 266 2259 \nQ 266 3072 433 3567 \nQ 600 4063 929 4331 \nQ 1259 4600 1759 4600 \nQ 2128 4600 2406 4451 \nQ 2684 4303 2865 4023 \nQ 3047 3744 3150 3342 \nQ 3253 2941 3253 2259 \nQ 3253 1453 3087 958 \nQ 2922 463 2592 192 \nQ 2263 -78 1759 -78 \nQ 1097 -78 719 397 \nQ 266 969 266 2259 \nz\nM 844 2259 \nQ 844 1131 1108 757 \nQ 1372 384 1759 384 \nQ 2147 384 2411 759 \nQ 2675 1134 2675 2259 \nQ 2675 3391 2411 3762 \nQ 2147 4134 1753 4134 \nQ 1366 4134 1134 3806 \nQ 844 3388 844 2259 \nz\n\" transform=\"scale(0.015625)\"/>\n       </defs>\n       <use xlink:href=\"#ArialMT-30\"/>\n      </g>\n     </g>\n    </g>\n    <g id=\"ytick_4\">\n     <g id=\"line2d_2\">\n      <g>\n       <use xlink:href=\"#m386a46b800\" x=\"358.835413\" y=\"234.883254\" style=\"fill: #262626; stroke: #262626; stroke-width: 0.8\"/>\n      </g>\n     </g>\n     <g id=\"text_13\">\n      <!-- 100 -->\n      <g style=\"fill: #262626\" transform=\"translate(365.835413 238.46216) scale(0.1 -0.1)\">\n       <use xlink:href=\"#ArialMT-31\"/>\n       <use xlink:href=\"#ArialMT-30\" x=\"55.615234\"/>\n       <use xlink:href=\"#ArialMT-30\" x=\"111.230469\"/>\n      </g>\n     </g>\n    </g>\n    <g id=\"ytick_5\">\n     <g id=\"line2d_3\">\n      <g>\n       <use xlink:href=\"#m386a46b800\" x=\"358.835413\" y=\"176.138883\" style=\"fill: #262626; stroke: #262626; stroke-width: 0.8\"/>\n      </g>\n     </g>\n     <g id=\"text_14\">\n      <!-- 200 -->\n      <g style=\"fill: #262626\" transform=\"translate(365.835413 179.71779) scale(0.1 -0.1)\">\n       <use xlink:href=\"#ArialMT-32\"/>\n       <use xlink:href=\"#ArialMT-30\" x=\"55.615234\"/>\n       <use xlink:href=\"#ArialMT-30\" x=\"111.230469\"/>\n      </g>\n     </g>\n    </g>\n    <g id=\"ytick_6\">\n     <g id=\"line2d_4\">\n      <g>\n       <use xlink:href=\"#m386a46b800\" x=\"358.835413\" y=\"117.394512\" style=\"fill: #262626; stroke: #262626; stroke-width: 0.8\"/>\n      </g>\n     </g>\n     <g id=\"text_15\">\n      <!-- 300 -->\n      <g style=\"fill: #262626\" transform=\"translate(365.835413 120.973419) scale(0.1 -0.1)\">\n       <use xlink:href=\"#ArialMT-33\"/>\n       <use xlink:href=\"#ArialMT-30\" x=\"55.615234\"/>\n       <use xlink:href=\"#ArialMT-30\" x=\"111.230469\"/>\n      </g>\n     </g>\n    </g>\n    <g id=\"ytick_7\">\n     <g id=\"line2d_5\">\n      <g>\n       <use xlink:href=\"#m386a46b800\" x=\"358.835413\" y=\"58.650142\" style=\"fill: #262626; stroke: #262626; stroke-width: 0.8\"/>\n      </g>\n     </g>\n     <g id=\"text_16\">\n      <!-- 400 -->\n      <g style=\"fill: #262626\" transform=\"translate(365.835413 62.229048) scale(0.1 -0.1)\">\n       <use xlink:href=\"#ArialMT-34\"/>\n       <use xlink:href=\"#ArialMT-30\" x=\"55.615234\"/>\n       <use xlink:href=\"#ArialMT-30\" x=\"111.230469\"/>\n      </g>\n     </g>\n    </g>\n   </g>\n   <image xlink:href=\"data:image/png;base64,\niVBORw0KGgoAAAANSUhEUgAAABIAAAFyCAYAAAD4TYq5AAABwklEQVR4nO2bwW3EQAwDdYH7bzePA+yUoH0MjAlBFUB4xBVXdnKf3+/zDFA/hMjMzMU8z8z1DKPEoUEPNBekk+wa1mywR5iQEA1yTYfmG5Fg14TBBma27Tqqa7tQXTsQ0gXb2IKtS8ReXf1OhHKDrW9HB0J1bRcSTn+DbRUSotW1VajBtgr1Olqrru3lc63Btlevo704127INiGabvq5Ht25aHVtF/Khca5RQndwj3LRol1jikSD9qMbkQGfSLmN2NCSXcsdWmph78k+EPK903L256JRe7Ywj6j9SGk/JmTLI85+nWvcDqlD072uC3sEnmzb0HL261xLXiIwoeAecSc7dmiNUSv7WiNEC76OwC/ssWhC1zAhHZruFhHetMFvR5xriEzX45PyzZoxs23BZszs4L/TBrtmm/5m9l7JrhXtVSFEx9kjRKdoB1W0IyFEx7iNFO1EyIcmO9nBaNcNbew92XsV7UjIhyb7bVZyj4LRhD/Ns7kmtL9D+56QEK1D+55Qh3avZNc6tP9QSNij2r8WGbWYa8x/+wWjYU9E9ghDq/1LFW0vH1r20Oai6T6MN2pPhHqyd6GiLVW0vXxovmD7A6qdG6AuP65VAAAAAElFTkSuQmCC\" id=\"imagebac90c61e7\" transform=\"scale(1 -1) translate(0 -266.4)\" x=\"345.6\" y=\"-27.36\" width=\"12.96\" height=\"266.4\"/>\n   <g id=\"LineCollection_1\"/>\n   <g id=\"patch_5\">\n    <path d=\"M 345.529813 293.627625 \nL 352.182613 293.627625 \nL 358.835413 293.627625 \nL 358.835413 27.515625 \nL 352.182613 27.515625 \nL 345.529813 27.515625 \nL 345.529813 293.627625 \nz\n\" style=\"fill: none\"/>\n   </g>\n  </g>\n </g>\n <defs>\n  <clipPath id=\"p43747d3687\">\n   <rect x=\"41.977813\" y=\"27.515625\" width=\"285.696\" height=\"266.112\"/>\n  </clipPath>\n  <clipPath id=\"p34144d4027\">\n   <rect x=\"345.529813\" y=\"27.515625\" width=\"13.3056\" height=\"266.112\"/>\n  </clipPath>\n </defs>\n</svg>\n",
      "text/plain": [
       "<Figure size 640x480 with 2 Axes>"
      ]
     },
     "metadata": {},
     "output_type": "display_data"
    }
   ],
   "source": [
    "predictions = rnn_model.predict(test_padded)\n",
    "conf_matrix = confusion_matrix(y_test, np.round(predictions))\n",
    "plot_confusion_matrix(conf_matrix, [\"Not sarcastic\", \"Sarcastic\"], \"Blues\")"
   ]
  },
  {
   "attachments": {},
   "cell_type": "markdown",
   "metadata": {},
   "source": [
    "As observed, this model also suffers from overfitting, with a test accuracy almost identical to the previous model.\n",
    "\n",
    "Despite having a validation accuracy of 0.71, the test accuracy is only 0.58, indicating that the model has not generalized well. One possible reason for overfitting could be that the test set includes headlines from different sources than those used for training, which may affect the model's performance due to varying vocabulary and topics.\n",
    "\n",
    "Upon examining the confusion matrix, we find that the model has a higher number of false negatives than false positives, implying that it has difficulty in detecting sarcasm in headlines that are sarcastic. In comparison to the previous model, this model has fewer false negatives (429 vs. 479), but more false positives (142 vs. 87).\n",
    "\n",
    "In conclusion, using GloVe does not appear to improve the model's performance compared to custom word embeddings."
   ]
  }
 ],
 "metadata": {
  "kernelspec": {
   "display_name": "venv",
   "language": "python",
   "name": "python3"
  },
  "language_info": {
   "codemirror_mode": {
    "name": "ipython",
    "version": 3
   },
   "file_extension": ".py",
   "mimetype": "text/x-python",
   "name": "python",
   "nbconvert_exporter": "python",
   "pygments_lexer": "ipython3",
   "version": "3.10.6 (main, Nov  2 2022, 18:53:38) [GCC 11.3.0]"
  },
  "orig_nbformat": 4,
  "vscode": {
   "interpreter": {
    "hash": "50eb83a13a54b6c08f9e0958ffb828fbcd82eb99687cd3fc79fb79c1b2ab88e6"
   }
  }
 },
 "nbformat": 4,
 "nbformat_minor": 2
}
